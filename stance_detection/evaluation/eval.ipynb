{
 "cells": [
  {
   "cell_type": "code",
   "execution_count": 42,
   "id": "753d079c",
   "metadata": {},
   "outputs": [],
   "source": [
    "import pandas as pd"
   ]
  },
  {
   "cell_type": "code",
   "execution_count": 43,
   "id": "eba65d17",
   "metadata": {},
   "outputs": [
    {
     "data": {
      "text/html": [
       "<div>\n",
       "<style scoped>\n",
       "    .dataframe tbody tr th:only-of-type {\n",
       "        vertical-align: middle;\n",
       "    }\n",
       "\n",
       "    .dataframe tbody tr th {\n",
       "        vertical-align: top;\n",
       "    }\n",
       "\n",
       "    .dataframe thead th {\n",
       "        text-align: right;\n",
       "    }\n",
       "</style>\n",
       "<table border=\"1\" class=\"dataframe\">\n",
       "  <thead>\n",
       "    <tr style=\"text-align: right;\">\n",
       "      <th></th>\n",
       "      <th>Unnamed: 0</th>\n",
       "      <th>stance</th>\n",
       "      <th>label</th>\n",
       "      <th>masked_prediction</th>\n",
       "    </tr>\n",
       "  </thead>\n",
       "  <tbody>\n",
       "    <tr>\n",
       "      <th>0</th>\n",
       "      <td>0</td>\n",
       "      <td>2</td>\n",
       "      <td>2</td>\n",
       "      <td>2</td>\n",
       "    </tr>\n",
       "    <tr>\n",
       "      <th>1</th>\n",
       "      <td>1</td>\n",
       "      <td>2</td>\n",
       "      <td>2</td>\n",
       "      <td>2</td>\n",
       "    </tr>\n",
       "    <tr>\n",
       "      <th>2</th>\n",
       "      <td>2</td>\n",
       "      <td>1</td>\n",
       "      <td>1</td>\n",
       "      <td>1</td>\n",
       "    </tr>\n",
       "    <tr>\n",
       "      <th>3</th>\n",
       "      <td>3</td>\n",
       "      <td>2</td>\n",
       "      <td>2</td>\n",
       "      <td>2</td>\n",
       "    </tr>\n",
       "    <tr>\n",
       "      <th>4</th>\n",
       "      <td>4</td>\n",
       "      <td>2</td>\n",
       "      <td>2</td>\n",
       "      <td>2</td>\n",
       "    </tr>\n",
       "    <tr>\n",
       "      <th>...</th>\n",
       "      <td>...</td>\n",
       "      <td>...</td>\n",
       "      <td>...</td>\n",
       "      <td>...</td>\n",
       "    </tr>\n",
       "    <tr>\n",
       "      <th>95</th>\n",
       "      <td>95</td>\n",
       "      <td>2</td>\n",
       "      <td>2</td>\n",
       "      <td>0</td>\n",
       "    </tr>\n",
       "    <tr>\n",
       "      <th>96</th>\n",
       "      <td>96</td>\n",
       "      <td>2</td>\n",
       "      <td>2</td>\n",
       "      <td>2</td>\n",
       "    </tr>\n",
       "    <tr>\n",
       "      <th>97</th>\n",
       "      <td>97</td>\n",
       "      <td>1</td>\n",
       "      <td>1</td>\n",
       "      <td>1</td>\n",
       "    </tr>\n",
       "    <tr>\n",
       "      <th>98</th>\n",
       "      <td>98</td>\n",
       "      <td>2</td>\n",
       "      <td>2</td>\n",
       "      <td>2</td>\n",
       "    </tr>\n",
       "    <tr>\n",
       "      <th>99</th>\n",
       "      <td>99</td>\n",
       "      <td>0</td>\n",
       "      <td>0</td>\n",
       "      <td>0</td>\n",
       "    </tr>\n",
       "  </tbody>\n",
       "</table>\n",
       "<p>100 rows × 4 columns</p>\n",
       "</div>"
      ],
      "text/plain": [
       "    Unnamed: 0  stance  label  masked_prediction\n",
       "0            0       2      2                  2\n",
       "1            1       2      2                  2\n",
       "2            2       1      1                  1\n",
       "3            3       2      2                  2\n",
       "4            4       2      2                  2\n",
       "..         ...     ...    ...                ...\n",
       "95          95       2      2                  0\n",
       "96          96       2      2                  2\n",
       "97          97       1      1                  1\n",
       "98          98       2      2                  2\n",
       "99          99       0      0                  0\n",
       "\n",
       "[100 rows x 4 columns]"
      ]
     },
     "execution_count": 43,
     "metadata": {},
     "output_type": "execute_result"
    }
   ],
   "source": [
    "df=pd.read_csv(\"hcq.csv\")\n",
    "df"
   ]
  },
  {
   "cell_type": "code",
   "execution_count": 44,
   "id": "be8f17f3",
   "metadata": {},
   "outputs": [],
   "source": [
    "from sklearn.metrics import confusion_matrix, precision_recall_fscore_support\n",
    "import numpy as np"
   ]
  },
  {
   "cell_type": "code",
   "execution_count": 45,
   "id": "a2388b6c",
   "metadata": {},
   "outputs": [],
   "source": [
    "d = {}\n",
    "d_masked = {}"
   ]
  },
  {
   "cell_type": "code",
   "execution_count": 46,
   "id": "eb529c52",
   "metadata": {},
   "outputs": [],
   "source": [
    "df = pd.read_csv(\"hcq.csv\")\n",
    "df = df[[\"stance\",\"label\",\"masked_prediction\"]]\n",
    "df.to_csv(\"hcq.csv\")\n",
    "d[\"Hydroxychloroquine\"] = list(precision_recall_fscore_support(df.stance.tolist(),df.label.tolist(), average=\"weighted\"))\n",
    "d_masked[\"Hydroxychloroquine\"] = list(precision_recall_fscore_support(df.masked_prediction.tolist(),df.label.tolist(), average=\"weighted\"))\n"
   ]
  },
  {
   "cell_type": "code",
   "execution_count": 47,
   "id": "81b44a8a",
   "metadata": {},
   "outputs": [],
   "source": [
    "df = pd.read_csv(\"ivermectin.csv\")\n",
    "df = df[[\"stance\",\"label\",\"masked_prediction\"]]\n",
    "df.to_csv(\"ivermectin.csv\")\n",
    "d[\"Ivermectin\"] = list(precision_recall_fscore_support(df.stance.tolist(),df.label.tolist(), average=\"weighted\"))\n",
    "d_masked[\"Ivermectin\"] = list(precision_recall_fscore_support(df.masked_prediction.tolist(),df.label.tolist(), average=\"weighted\"))\n"
   ]
  },
  {
   "cell_type": "code",
   "execution_count": 48,
   "id": "439941a9",
   "metadata": {},
   "outputs": [],
   "source": [
    "df = pd.read_csv(\"molnupiravir.csv\")\n",
    "df = df[[\"stance\",\"label\",\"masked_prediction\"]]\n",
    "df.to_csv(\"molnupiravir.csv\")\n",
    "d[\"Molnupiravir\"] = list(precision_recall_fscore_support(df.stance.tolist(),df.label.tolist(), average=\"weighted\"))\n",
    "d_masked[\"Molnupiravir\"] = list(precision_recall_fscore_support(df.masked_prediction.tolist(),df.label.tolist(), average=\"weighted\"))\n"
   ]
  },
  {
   "cell_type": "code",
   "execution_count": 49,
   "id": "4a4f35db",
   "metadata": {},
   "outputs": [],
   "source": [
    "df = pd.read_csv(\"remdesivir.csv\")\n",
    "df = df[[\"stance\",\"label\",\"masked_prediction\"]]\n",
    "df.to_csv(\"remdesivir.csv\")\n",
    "d[\"Remdesivir\"] = list(precision_recall_fscore_support(df.stance.tolist(),df.label.tolist(), average=\"weighted\"))\n",
    "d_masked[\"Remdesivir\"] = list(precision_recall_fscore_support(df.masked_prediction.tolist(),df.label.tolist(), average=\"weighted\"))\n"
   ]
  },
  {
   "cell_type": "code",
   "execution_count": 54,
   "id": "4539b0a0",
   "metadata": {},
   "outputs": [],
   "source": [
    "df = pd.DataFrame.from_dict(d_masked)\n",
    "df = df[:-1].T"
   ]
  },
  {
   "cell_type": "code",
   "execution_count": 55,
   "id": "e5879bf4",
   "metadata": {},
   "outputs": [],
   "source": [
    "df.columns = [\"Precision\",\"Recall\",\"F1-Score\"]\n"
   ]
  },
  {
   "cell_type": "code",
   "execution_count": 56,
   "id": "4f392180",
   "metadata": {},
   "outputs": [
    {
     "data": {
      "text/html": [
       "<div>\n",
       "<style scoped>\n",
       "    .dataframe tbody tr th:only-of-type {\n",
       "        vertical-align: middle;\n",
       "    }\n",
       "\n",
       "    .dataframe tbody tr th {\n",
       "        vertical-align: top;\n",
       "    }\n",
       "\n",
       "    .dataframe thead th {\n",
       "        text-align: right;\n",
       "    }\n",
       "</style>\n",
       "<table border=\"1\" class=\"dataframe\">\n",
       "  <thead>\n",
       "    <tr style=\"text-align: right;\">\n",
       "      <th></th>\n",
       "      <th>Precision</th>\n",
       "      <th>Recall</th>\n",
       "      <th>F1-Score</th>\n",
       "    </tr>\n",
       "  </thead>\n",
       "  <tbody>\n",
       "    <tr>\n",
       "      <th>Hydroxychloroquine</th>\n",
       "      <td>0.843833</td>\n",
       "      <td>0.83</td>\n",
       "      <td>0.831732</td>\n",
       "    </tr>\n",
       "    <tr>\n",
       "      <th>Ivermectin</th>\n",
       "      <td>0.716223</td>\n",
       "      <td>0.68</td>\n",
       "      <td>0.682529</td>\n",
       "    </tr>\n",
       "    <tr>\n",
       "      <th>Molnupiravir</th>\n",
       "      <td>0.781776</td>\n",
       "      <td>0.77</td>\n",
       "      <td>0.773593</td>\n",
       "    </tr>\n",
       "    <tr>\n",
       "      <th>Remdesivir</th>\n",
       "      <td>0.700789</td>\n",
       "      <td>0.66</td>\n",
       "      <td>0.664592</td>\n",
       "    </tr>\n",
       "  </tbody>\n",
       "</table>\n",
       "</div>"
      ],
      "text/plain": [
       "                    Precision  Recall  F1-Score\n",
       "Hydroxychloroquine   0.843833    0.83  0.831732\n",
       "Ivermectin           0.716223    0.68  0.682529\n",
       "Molnupiravir         0.781776    0.77  0.773593\n",
       "Remdesivir           0.700789    0.66  0.664592"
      ]
     },
     "execution_count": 56,
     "metadata": {},
     "output_type": "execute_result"
    }
   ],
   "source": [
    "df"
   ]
  },
  {
   "cell_type": "code",
   "execution_count": 57,
   "id": "4f8b6cbd",
   "metadata": {},
   "outputs": [],
   "source": [
    "df.to_csv(\"results/eval_masked.csv\")"
   ]
  },
  {
   "cell_type": "code",
   "execution_count": null,
   "id": "81f7ef3c",
   "metadata": {},
   "outputs": [],
   "source": []
  },
  {
   "cell_type": "code",
   "execution_count": null,
   "id": "259214e7",
   "metadata": {},
   "outputs": [],
   "source": []
  }
 ],
 "metadata": {
  "kernelspec": {
   "display_name": "Python 3",
   "language": "python",
   "name": "python3"
  },
  "language_info": {
   "codemirror_mode": {
    "name": "ipython",
    "version": 3
   },
   "file_extension": ".py",
   "mimetype": "text/x-python",
   "name": "python",
   "nbconvert_exporter": "python",
   "pygments_lexer": "ipython3",
   "version": "3.9.0"
  }
 },
 "nbformat": 4,
 "nbformat_minor": 5
}
