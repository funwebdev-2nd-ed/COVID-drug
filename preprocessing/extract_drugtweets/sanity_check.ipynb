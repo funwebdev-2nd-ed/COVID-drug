{
 "cells": [
  {
   "cell_type": "code",
   "execution_count": 41,
   "metadata": {},
   "outputs": [],
   "source": [
    "import pandas as pd\n",
    "import glob"
   ]
  },
  {
   "cell_type": "code",
   "execution_count": 53,
   "metadata": {},
   "outputs": [],
   "source": [
    "files = sorted(glob.glob(\"../../data/with_location/*.csv\"))"
   ]
  },
  {
   "cell_type": "code",
   "execution_count": 54,
   "metadata": {},
   "outputs": [
    {
     "name": "stderr",
     "output_type": "stream",
     "text": [
      "/mnt/enchome/anaconda3/envs/twee/lib/python3.9/site-packages/IPython/core/interactiveshell.py:3444: DtypeWarning: Columns (13,15,16) have mixed types.Specify dtype option on import or set low_memory=False.\n",
      "  exec(code_obj, self.user_global_ns, self.user_ns)\n",
      "/mnt/enchome/anaconda3/envs/twee/lib/python3.9/site-packages/IPython/core/interactiveshell.py:3444: DtypeWarning: Columns (14,15) have mixed types.Specify dtype option on import or set low_memory=False.\n",
      "  exec(code_obj, self.user_global_ns, self.user_ns)\n"
     ]
    }
   ],
   "source": [
    "dfs = []\n",
    "for file in files:\n",
    "    df = pd.read_csv(file)\n",
    "    # df = df[[\"id\",\"wave\"]].groupby(\"wave\").agg(\"count\").reset_index()\n",
    "    # df[\"drug\"] = file.split(\"/\")[-1].split(\".csv\")[0]\n",
    "    dfs.append(df)\n"
   ]
  },
  {
   "cell_type": "code",
   "execution_count": 55,
   "metadata": {},
   "outputs": [
    {
     "data": {
      "text/plain": [
       "609189"
      ]
     },
     "execution_count": 55,
     "metadata": {},
     "output_type": "execute_result"
    }
   ],
   "source": [
    "df = pd.concat(dfs)\n",
    "len(df)"
   ]
  },
  {
   "cell_type": "code",
   "execution_count": 34,
   "metadata": {},
   "outputs": [],
   "source": [
    "df = pd.concat(dfs)\n",
    "df.columns = [\"Wave\",\"Count\",\"Drug\"]\n",
    "df = df.pivot(index='Wave', columns='Drug', values='Count')\n"
   ]
  },
  {
   "cell_type": "code",
   "execution_count": 35,
   "metadata": {},
   "outputs": [
    {
     "data": {
      "text/html": [
       "<div>\n",
       "<style scoped>\n",
       "    .dataframe tbody tr th:only-of-type {\n",
       "        vertical-align: middle;\n",
       "    }\n",
       "\n",
       "    .dataframe tbody tr th {\n",
       "        vertical-align: top;\n",
       "    }\n",
       "\n",
       "    .dataframe thead th {\n",
       "        text-align: right;\n",
       "    }\n",
       "</style>\n",
       "<table border=\"1\" class=\"dataframe\">\n",
       "  <thead>\n",
       "    <tr style=\"text-align: right;\">\n",
       "      <th>Wave</th>\n",
       "      <th>1</th>\n",
       "      <th>2</th>\n",
       "      <th>3</th>\n",
       "      <th>Total (Drug)</th>\n",
       "    </tr>\n",
       "    <tr>\n",
       "      <th>Drug</th>\n",
       "      <th></th>\n",
       "      <th></th>\n",
       "      <th></th>\n",
       "      <th></th>\n",
       "    </tr>\n",
       "  </thead>\n",
       "  <tbody>\n",
       "    <tr>\n",
       "      <th>hcq</th>\n",
       "      <td>131999</td>\n",
       "      <td>48523</td>\n",
       "      <td>12103</td>\n",
       "      <td>192625</td>\n",
       "    </tr>\n",
       "    <tr>\n",
       "      <th>ivermectin</th>\n",
       "      <td>4760</td>\n",
       "      <td>44762</td>\n",
       "      <td>202113</td>\n",
       "      <td>251635</td>\n",
       "    </tr>\n",
       "    <tr>\n",
       "      <th>molnupiravir</th>\n",
       "      <td>24</td>\n",
       "      <td>697</td>\n",
       "      <td>4234</td>\n",
       "      <td>4955</td>\n",
       "    </tr>\n",
       "    <tr>\n",
       "      <th>remdesivir</th>\n",
       "      <td>19339</td>\n",
       "      <td>16754</td>\n",
       "      <td>5731</td>\n",
       "      <td>41824</td>\n",
       "    </tr>\n",
       "  </tbody>\n",
       "</table>\n",
       "</div>"
      ],
      "text/plain": [
       "Wave               1      2       3  Total (Drug)\n",
       "Drug                                             \n",
       "hcq           131999  48523   12103        192625\n",
       "ivermectin      4760  44762  202113        251635\n",
       "molnupiravir      24    697    4234          4955\n",
       "remdesivir     19339  16754    5731         41824"
      ]
     },
     "execution_count": 35,
     "metadata": {},
     "output_type": "execute_result"
    }
   ],
   "source": [
    "df = df.T\n",
    "df[\"Total (Drug)\"] = df.sum(axis=1)\n",
    "df"
   ]
  },
  {
   "cell_type": "code",
   "execution_count": 36,
   "metadata": {},
   "outputs": [],
   "source": [
    "df = df.T\n",
    "df[\"Total (Wave)\"] = df.sum(axis=1)\n"
   ]
  },
  {
   "cell_type": "code",
   "execution_count": 37,
   "metadata": {},
   "outputs": [],
   "source": [
    "df.to_csv(\"extracted_amount.csv\")"
   ]
  },
  {
   "cell_type": "code",
   "execution_count": 39,
   "metadata": {},
   "outputs": [
    {
     "data": {
      "text/html": [
       "<div>\n",
       "<style scoped>\n",
       "    .dataframe tbody tr th:only-of-type {\n",
       "        vertical-align: middle;\n",
       "    }\n",
       "\n",
       "    .dataframe tbody tr th {\n",
       "        vertical-align: top;\n",
       "    }\n",
       "\n",
       "    .dataframe thead th {\n",
       "        text-align: right;\n",
       "    }\n",
       "</style>\n",
       "<table border=\"1\" class=\"dataframe\">\n",
       "  <thead>\n",
       "    <tr style=\"text-align: right;\">\n",
       "      <th>Drug</th>\n",
       "      <th>hcq</th>\n",
       "      <th>ivermectin</th>\n",
       "      <th>molnupiravir</th>\n",
       "      <th>remdesivir</th>\n",
       "      <th>Total (Wave)</th>\n",
       "    </tr>\n",
       "    <tr>\n",
       "      <th>Wave</th>\n",
       "      <th></th>\n",
       "      <th></th>\n",
       "      <th></th>\n",
       "      <th></th>\n",
       "      <th></th>\n",
       "    </tr>\n",
       "  </thead>\n",
       "  <tbody>\n",
       "    <tr>\n",
       "      <th>1</th>\n",
       "      <td>131999</td>\n",
       "      <td>4760</td>\n",
       "      <td>24</td>\n",
       "      <td>19339</td>\n",
       "      <td>156122</td>\n",
       "    </tr>\n",
       "    <tr>\n",
       "      <th>2</th>\n",
       "      <td>48523</td>\n",
       "      <td>44762</td>\n",
       "      <td>697</td>\n",
       "      <td>16754</td>\n",
       "      <td>110736</td>\n",
       "    </tr>\n",
       "    <tr>\n",
       "      <th>3</th>\n",
       "      <td>12103</td>\n",
       "      <td>202113</td>\n",
       "      <td>4234</td>\n",
       "      <td>5731</td>\n",
       "      <td>224181</td>\n",
       "    </tr>\n",
       "    <tr>\n",
       "      <th>Total (Drug)</th>\n",
       "      <td>192625</td>\n",
       "      <td>251635</td>\n",
       "      <td>4955</td>\n",
       "      <td>41824</td>\n",
       "      <td>491039</td>\n",
       "    </tr>\n",
       "  </tbody>\n",
       "</table>\n",
       "</div>"
      ],
      "text/plain": [
       "Drug             hcq  ivermectin  molnupiravir  remdesivir  Total (Wave)\n",
       "Wave                                                                    \n",
       "1             131999        4760            24       19339        156122\n",
       "2              48523       44762           697       16754        110736\n",
       "3              12103      202113          4234        5731        224181\n",
       "Total (Drug)  192625      251635          4955       41824        491039"
      ]
     },
     "execution_count": 39,
     "metadata": {},
     "output_type": "execute_result"
    }
   ],
   "source": [
    "df"
   ]
  },
  {
   "cell_type": "code",
   "execution_count": null,
   "metadata": {},
   "outputs": [],
   "source": []
  }
 ],
 "metadata": {
  "interpreter": {
   "hash": "0babe654b855458543363a4b830ff43f68cfb343983d247d42ea7e3e37bc8d56"
  },
  "kernelspec": {
   "display_name": "Python 3.9.0 ('twee')",
   "language": "python",
   "name": "python3"
  },
  "language_info": {
   "codemirror_mode": {
    "name": "ipython",
    "version": 3
   },
   "file_extension": ".py",
   "mimetype": "text/x-python",
   "name": "python",
   "nbconvert_exporter": "python",
   "pygments_lexer": "ipython3",
   "version": "3.9.0"
  },
  "orig_nbformat": 4
 },
 "nbformat": 4,
 "nbformat_minor": 2
}
