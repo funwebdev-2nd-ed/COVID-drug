{
 "cells": [
  {
   "cell_type": "code",
   "execution_count": 71,
   "id": "17a712b4",
   "metadata": {},
   "outputs": [],
   "source": [
    "import pandas as pd\n",
    "import os"
   ]
  },
  {
   "cell_type": "markdown",
   "id": "76c5e54b",
   "metadata": {},
   "source": [
    "### Merge location tweets\n"
   ]
  },
  {
   "cell_type": "code",
   "execution_count": 10,
   "id": "85df18eb",
   "metadata": {},
   "outputs": [],
   "source": [
    "drugs = [\"hcq\", \"ivermectin\", \"remdesivir\", \"molnupiravir\"]\n",
    "in_dir = \"output/\"\n",
    "out_dir = \"../../data/with_location/\"\n",
    "os.makedirs(out_dir, exist_ok=True)"
   ]
  },
  {
   "cell_type": "code",
   "execution_count": 82,
   "id": "86afaf23",
   "metadata": {},
   "outputs": [
    {
     "name": "stdout",
     "output_type": "stream",
     "text": [
      "On hcq\n",
      "After merging:241111\n",
      "On ivermectin\n",
      "After merging:295931\n",
      "On remdesivir\n",
      "After merging:51727\n",
      "On molnupiravir\n",
      "After merging:20420\n"
     ]
    }
   ],
   "source": [
    "for drug in drugs:\n",
    "    print(\"On %s\"%drug)\n",
    "    filename = f'{in_dir}/1/{drug}_all.csv'\n",
    "    df = pd.read_csv(filename, lineterminator=\"\\n\", low_memory=False)\n",
    "    df = df[df.country == \"US\"]\n",
    "    df = df[df.full_text.notna()]    \n",
    "\n",
    "    df = df.drop_duplicates(subset='id', keep='first')\n",
    "    remain_num, total_num = df[df.country == \"US\"].shape[0], df.shape[0]\n",
    "    df.pop(\"country\")\n",
    "\n",
    "    df2 = pd.read_csv(f'{in_dir}/2/{drug}.csv')\n",
    "    df2 = df2[df2.full_text.notna()]\n",
    "\n",
    "    merged = pd.concat([df,df2]).drop_duplicates(subset=[\"id\"])\n",
    "    print(\"After merging: %i\"%len(merged))\n",
    "    merged.to_csv(f\"{out_dir}{drug}.csv\",index=False)"
   ]
  }
 ],
 "metadata": {
  "kernelspec": {
   "display_name": "Python 3",
   "language": "python",
   "name": "python3"
  },
  "language_info": {
   "codemirror_mode": {
    "name": "ipython",
    "version": 3
   },
   "file_extension": ".py",
   "mimetype": "text/x-python",
   "name": "python",
   "nbconvert_exporter": "python",
   "pygments_lexer": "ipython3",
   "version": "3.9.0"
  }
 },
 "nbformat": 4,
 "nbformat_minor": 5
}
