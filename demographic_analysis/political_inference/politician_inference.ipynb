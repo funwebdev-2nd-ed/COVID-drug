{
 "cells": [
  {
   "cell_type": "code",
   "execution_count": 1,
   "id": "15c2ac37",
   "metadata": {},
   "outputs": [],
   "source": [
    "import pandas as pd\n",
    "import time\n",
    "import tweepy\n",
    "import csv\n",
    "import os\n",
    "from requests.exceptions import Timeout, ConnectionError\n",
    "import tweepy\n",
    "import pandas as pd\n",
    "from tqdm import tqdm"
   ]
  },
  {
   "cell_type": "code",
   "execution_count": 167,
   "id": "c030db3a",
   "metadata": {},
   "outputs": [
    {
     "name": "stderr",
     "output_type": "stream",
     "text": [
      "100%|██████████| 910/910 [05:07<00:00,  2.96it/s]\n"
     ]
    }
   ],
   "source": [
    "# get twitter_ids for politicians\n",
    "\n",
    "# read data\n",
    "df_politician = pd.read_csv(\"./politician_2016_2022.csv\")\n",
    "user_twitters = df_politician.twitter_handle\n",
    "\n",
    "user_ids = []\n",
    "user_jsons = []\n",
    "for user_screename in tqdm(user_twitters):\n",
    "    try:\n",
    "        user_json_list = api.lookup_users(screen_name=[user_screename])\n",
    "        user_ids.append(user_json_list[0].id_str)\n",
    "        user_jsons.append(user_json_list[0])\n",
    "    except Exception as err:\n",
    "        user_ids.append(None)\n",
    "        user_jsons.append(None)\n"
   ]
  },
  {
   "cell_type": "code",
   "execution_count": 180,
   "id": "26daf62a",
   "metadata": {},
   "outputs": [
    {
     "name": "stdout",
     "output_type": "stream",
     "text": [
      "429 438\n"
     ]
    }
   ],
   "source": [
    "# add user ids into `politician_2016_2022.csv`\n",
    "\n",
    "df_politician['twitter_id'] = user_ids\n",
    "\n",
    "dem_politician_set = set(df_politician[df_politician.party==\"Democratic Party\"].twitter_id)\n",
    "rep_politician_set = set(df_politician[df_politician.party==\"Republican Party\"].twitter_id)\n",
    "print(len(dem_politician_set), len(rep_politician_set))\n",
    "\n",
    "df_politician.to_csv(\"politician_2016_2022.csv\", index=False)"
   ]
  },
  {
   "cell_type": "code",
   "execution_count": 181,
   "id": "2ab3c5d8-baba-4c63-9cef-faabe875603b",
   "metadata": {},
   "outputs": [
    {
     "data": {
      "text/plain": [
       "453"
      ]
     },
     "execution_count": 181,
     "metadata": {},
     "output_type": "execute_result"
    }
   ],
   "source": [
    "len(df_politician[df_politician.party==\"Democratic Party\"].twitter_id)"
   ]
  },
  {
   "cell_type": "markdown",
   "id": "bc40ca3e-6bf8-4b6c-81ca-f0b792a5d8ca",
   "metadata": {},
   "source": [
    "## infer political orientation for covid users"
   ]
  },
  {
   "cell_type": "code",
   "execution_count": 182,
   "id": "c159afc9",
   "metadata": {},
   "outputs": [
    {
     "name": "stderr",
     "output_type": "stream",
     "text": [
      "100%|██████████| 88124/88124 [09:14<00:00, 159.03it/s]\n"
     ]
    },
    {
     "data": {
      "text/html": [
       "<div>\n",
       "<style scoped>\n",
       "    .dataframe tbody tr th:only-of-type {\n",
       "        vertical-align: middle;\n",
       "    }\n",
       "\n",
       "    .dataframe tbody tr th {\n",
       "        vertical-align: top;\n",
       "    }\n",
       "\n",
       "    .dataframe thead th {\n",
       "        text-align: right;\n",
       "    }\n",
       "</style>\n",
       "<table border=\"1\" class=\"dataframe\">\n",
       "  <thead>\n",
       "    <tr style=\"text-align: right;\">\n",
       "      <th></th>\n",
       "      <th>twitter_id</th>\n",
       "      <th>dem_count</th>\n",
       "      <th>rep_count</th>\n",
       "    </tr>\n",
       "  </thead>\n",
       "  <tbody>\n",
       "    <tr>\n",
       "      <th>0</th>\n",
       "      <td>108556027</td>\n",
       "      <td>19</td>\n",
       "      <td>2</td>\n",
       "    </tr>\n",
       "    <tr>\n",
       "      <th>1</th>\n",
       "      <td>907389979042521089</td>\n",
       "      <td>4</td>\n",
       "      <td>0</td>\n",
       "    </tr>\n",
       "    <tr>\n",
       "      <th>2</th>\n",
       "      <td>44372211</td>\n",
       "      <td>0</td>\n",
       "      <td>0</td>\n",
       "    </tr>\n",
       "    <tr>\n",
       "      <th>3</th>\n",
       "      <td>710162591486611457</td>\n",
       "      <td>0</td>\n",
       "      <td>0</td>\n",
       "    </tr>\n",
       "    <tr>\n",
       "      <th>4</th>\n",
       "      <td>839099917121511425</td>\n",
       "      <td>0</td>\n",
       "      <td>1</td>\n",
       "    </tr>\n",
       "  </tbody>\n",
       "</table>\n",
       "</div>"
      ],
      "text/plain": [
       "           twitter_id  dem_count  rep_count\n",
       "0           108556027         19          2\n",
       "1  907389979042521089          4          0\n",
       "2            44372211          0          0\n",
       "3  710162591486611457          0          0\n",
       "4  839099917121511425          0          1"
      ]
     },
     "execution_count": 182,
     "metadata": {},
     "output_type": "execute_result"
    }
   ],
   "source": [
    "import glob\n",
    "import os\n",
    "\n",
    "all_rows = []\n",
    "\n",
    "for filepath in tqdm(glob.glob(\"./friends_info/*\")):\n",
    "    user_id = os.path.basename(filepath)[:-4]\n",
    "    with open(filepath) as f:\n",
    "        lines = f.read()\n",
    "        follows = set(lines.split(\"\\t\")[1].split(\",\"))\n",
    "        all_rows.append([user_id, \n",
    "                         len(dem_politician_set.intersection(follows)), \n",
    "                         len(rep_politician_set.intersection(follows))])\n",
    "\n",
    "df_poli_follow.to_csv(\"covid_user_political_follow.csv\", index=False)\n",
    "df_poli_follow.head(5)"
   ]
  },
  {
   "cell_type": "code",
   "execution_count": 187,
   "id": "a969573e-d57a-47c3-9545-9ff019100a64",
   "metadata": {},
   "outputs": [
    {
     "data": {
      "text/html": [
       "<div>\n",
       "<style scoped>\n",
       "    .dataframe tbody tr th:only-of-type {\n",
       "        vertical-align: middle;\n",
       "    }\n",
       "\n",
       "    .dataframe tbody tr th {\n",
       "        vertical-align: top;\n",
       "    }\n",
       "\n",
       "    .dataframe thead th {\n",
       "        text-align: right;\n",
       "    }\n",
       "</style>\n",
       "<table border=\"1\" class=\"dataframe\">\n",
       "  <thead>\n",
       "    <tr style=\"text-align: right;\">\n",
       "      <th></th>\n",
       "      <th>user_id</th>\n",
       "      <th>screen_name</th>\n",
       "      <th>name</th>\n",
       "      <th>description</th>\n",
       "      <th>profile_image_url</th>\n",
       "    </tr>\n",
       "  </thead>\n",
       "  <tbody>\n",
       "    <tr>\n",
       "      <th>0</th>\n",
       "      <td>1274105887926284288</td>\n",
       "      <td>CRoll78</td>\n",
       "      <td>Kim, WI Nerd in a box of Nerds✝️🇺🇸🇵🇱</td>\n",
       "      <td>Christian w/Jewish ancestry. Conservative Cons...</td>\n",
       "      <td>https://pbs.twimg.com/profile_images/137454645...</td>\n",
       "    </tr>\n",
       "    <tr>\n",
       "      <th>1</th>\n",
       "      <td>1217520455013130240</td>\n",
       "      <td>OratorBlog</td>\n",
       "      <td>BLOG-ORATOR</td>\n",
       "      <td>#TheMighty200   An anonymous Patriot who belie...</td>\n",
       "      <td>http://pbs.twimg.com/profile_images/1217548833...</td>\n",
       "    </tr>\n",
       "    <tr>\n",
       "      <th>2</th>\n",
       "      <td>268201193</td>\n",
       "      <td>DeccanHerald</td>\n",
       "      <td>Deccan Herald</td>\n",
       "      <td>Bengaluru &amp; Karnataka's leading news daily for...</td>\n",
       "      <td>https://pbs.twimg.com/profile_images/127500460...</td>\n",
       "    </tr>\n",
       "  </tbody>\n",
       "</table>\n",
       "</div>"
      ],
      "text/plain": [
       "               user_id   screen_name                                  name  \\\n",
       "0  1274105887926284288       CRoll78  Kim, WI Nerd in a box of Nerds✝️🇺🇸🇵🇱   \n",
       "1  1217520455013130240    OratorBlog                           BLOG-ORATOR   \n",
       "2            268201193  DeccanHerald                         Deccan Herald   \n",
       "\n",
       "                                         description  \\\n",
       "0  Christian w/Jewish ancestry. Conservative Cons...   \n",
       "1  #TheMighty200   An anonymous Patriot who belie...   \n",
       "2  Bengaluru & Karnataka's leading news daily for...   \n",
       "\n",
       "                                   profile_image_url  \n",
       "0  https://pbs.twimg.com/profile_images/137454645...  \n",
       "1  http://pbs.twimg.com/profile_images/1217548833...  \n",
       "2  https://pbs.twimg.com/profile_images/127500460...  "
      ]
     },
     "execution_count": 187,
     "metadata": {},
     "output_type": "execute_result"
    }
   ],
   "source": [
    "df_drug_users = pd.read_csv(\"./all_users_info.csv\")\n",
    "df_drug_users.user_id = df_drug_users.user_id.astype(\"str\")\n",
    "df_drug_users.head(3)"
   ]
  },
  {
   "cell_type": "code",
   "execution_count": 188,
   "id": "31d9f1f4-e2df-4337-acd2-6c62d5431adc",
   "metadata": {},
   "outputs": [
    {
     "data": {
      "text/html": [
       "<div>\n",
       "<style scoped>\n",
       "    .dataframe tbody tr th:only-of-type {\n",
       "        vertical-align: middle;\n",
       "    }\n",
       "\n",
       "    .dataframe tbody tr th {\n",
       "        vertical-align: top;\n",
       "    }\n",
       "\n",
       "    .dataframe thead th {\n",
       "        text-align: right;\n",
       "    }\n",
       "</style>\n",
       "<table border=\"1\" class=\"dataframe\">\n",
       "  <thead>\n",
       "    <tr style=\"text-align: right;\">\n",
       "      <th></th>\n",
       "      <th>user_id</th>\n",
       "      <th>screen_name</th>\n",
       "      <th>name</th>\n",
       "      <th>description</th>\n",
       "      <th>profile_image_url</th>\n",
       "      <th>twitter_id</th>\n",
       "      <th>dem_count</th>\n",
       "      <th>rep_count</th>\n",
       "    </tr>\n",
       "  </thead>\n",
       "  <tbody>\n",
       "    <tr>\n",
       "      <th>0</th>\n",
       "      <td>1274105887926284288</td>\n",
       "      <td>CRoll78</td>\n",
       "      <td>Kim, WI Nerd in a box of Nerds✝️🇺🇸🇵🇱</td>\n",
       "      <td>Christian w/Jewish ancestry. Conservative Cons...</td>\n",
       "      <td>https://pbs.twimg.com/profile_images/137454645...</td>\n",
       "      <td>1274105887926284288</td>\n",
       "      <td>0</td>\n",
       "      <td>2</td>\n",
       "    </tr>\n",
       "    <tr>\n",
       "      <th>1</th>\n",
       "      <td>268201193</td>\n",
       "      <td>DeccanHerald</td>\n",
       "      <td>Deccan Herald</td>\n",
       "      <td>Bengaluru &amp; Karnataka's leading news daily for...</td>\n",
       "      <td>https://pbs.twimg.com/profile_images/127500460...</td>\n",
       "      <td>268201193</td>\n",
       "      <td>0</td>\n",
       "      <td>0</td>\n",
       "    </tr>\n",
       "    <tr>\n",
       "      <th>2</th>\n",
       "      <td>1347730009084059653</td>\n",
       "      <td>philipM21152135</td>\n",
       "      <td>Philip Moses</td>\n",
       "      <td>Father, Husband,Mental Health Community Social...</td>\n",
       "      <td>https://pbs.twimg.com/profile_images/134773179...</td>\n",
       "      <td>1347730009084059653</td>\n",
       "      <td>29</td>\n",
       "      <td>0</td>\n",
       "    </tr>\n",
       "  </tbody>\n",
       "</table>\n",
       "</div>"
      ],
      "text/plain": [
       "               user_id      screen_name                                  name  \\\n",
       "0  1274105887926284288          CRoll78  Kim, WI Nerd in a box of Nerds✝️🇺🇸🇵🇱   \n",
       "1            268201193     DeccanHerald                         Deccan Herald   \n",
       "2  1347730009084059653  philipM21152135                          Philip Moses   \n",
       "\n",
       "                                         description  \\\n",
       "0  Christian w/Jewish ancestry. Conservative Cons...   \n",
       "1  Bengaluru & Karnataka's leading news daily for...   \n",
       "2  Father, Husband,Mental Health Community Social...   \n",
       "\n",
       "                                   profile_image_url           twitter_id  \\\n",
       "0  https://pbs.twimg.com/profile_images/137454645...  1274105887926284288   \n",
       "1  https://pbs.twimg.com/profile_images/127500460...            268201193   \n",
       "2  https://pbs.twimg.com/profile_images/134773179...  1347730009084059653   \n",
       "\n",
       "   dem_count  rep_count  \n",
       "0          0          2  \n",
       "1          0          0  \n",
       "2         29          0  "
      ]
     },
     "execution_count": 188,
     "metadata": {},
     "output_type": "execute_result"
    }
   ],
   "source": [
    "df_drug_users = df_drug_users.merge(df_poli_follow, left_on=[\"user_id\"], right_on=[\"twitter_id\"])\n",
    "df_drug_users.head(3)"
   ]
  },
  {
   "cell_type": "code",
   "execution_count": 189,
   "id": "05aa3421-2ddc-4564-98c8-a9b8cd0e77b1",
   "metadata": {},
   "outputs": [
    {
     "data": {
      "text/html": [
       "<div>\n",
       "<style scoped>\n",
       "    .dataframe tbody tr th:only-of-type {\n",
       "        vertical-align: middle;\n",
       "    }\n",
       "\n",
       "    .dataframe tbody tr th {\n",
       "        vertical-align: top;\n",
       "    }\n",
       "\n",
       "    .dataframe thead th {\n",
       "        text-align: right;\n",
       "    }\n",
       "</style>\n",
       "<table border=\"1\" class=\"dataframe\">\n",
       "  <thead>\n",
       "    <tr style=\"text-align: right;\">\n",
       "      <th></th>\n",
       "      <th>user_id</th>\n",
       "      <th>screen_name</th>\n",
       "      <th>name</th>\n",
       "      <th>description</th>\n",
       "      <th>profile_image_url</th>\n",
       "      <th>twitter_id</th>\n",
       "      <th>dem_count</th>\n",
       "      <th>rep_count</th>\n",
       "      <th>political_orientation</th>\n",
       "    </tr>\n",
       "  </thead>\n",
       "  <tbody>\n",
       "    <tr>\n",
       "      <th>0</th>\n",
       "      <td>1274105887926284288</td>\n",
       "      <td>CRoll78</td>\n",
       "      <td>Kim, WI Nerd in a box of Nerds✝️🇺🇸🇵🇱</td>\n",
       "      <td>Christian w/Jewish ancestry. Conservative Cons...</td>\n",
       "      <td>https://pbs.twimg.com/profile_images/137454645...</td>\n",
       "      <td>1274105887926284288</td>\n",
       "      <td>0</td>\n",
       "      <td>2</td>\n",
       "      <td>left</td>\n",
       "    </tr>\n",
       "    <tr>\n",
       "      <th>1</th>\n",
       "      <td>268201193</td>\n",
       "      <td>DeccanHerald</td>\n",
       "      <td>Deccan Herald</td>\n",
       "      <td>Bengaluru &amp; Karnataka's leading news daily for...</td>\n",
       "      <td>https://pbs.twimg.com/profile_images/127500460...</td>\n",
       "      <td>268201193</td>\n",
       "      <td>0</td>\n",
       "      <td>0</td>\n",
       "      <td>neutral</td>\n",
       "    </tr>\n",
       "    <tr>\n",
       "      <th>2</th>\n",
       "      <td>1347730009084059653</td>\n",
       "      <td>philipM21152135</td>\n",
       "      <td>Philip Moses</td>\n",
       "      <td>Father, Husband,Mental Health Community Social...</td>\n",
       "      <td>https://pbs.twimg.com/profile_images/134773179...</td>\n",
       "      <td>1347730009084059653</td>\n",
       "      <td>29</td>\n",
       "      <td>0</td>\n",
       "      <td>right</td>\n",
       "    </tr>\n",
       "  </tbody>\n",
       "</table>\n",
       "</div>"
      ],
      "text/plain": [
       "               user_id      screen_name                                  name  \\\n",
       "0  1274105887926284288          CRoll78  Kim, WI Nerd in a box of Nerds✝️🇺🇸🇵🇱   \n",
       "1            268201193     DeccanHerald                         Deccan Herald   \n",
       "2  1347730009084059653  philipM21152135                          Philip Moses   \n",
       "\n",
       "                                         description  \\\n",
       "0  Christian w/Jewish ancestry. Conservative Cons...   \n",
       "1  Bengaluru & Karnataka's leading news daily for...   \n",
       "2  Father, Husband,Mental Health Community Social...   \n",
       "\n",
       "                                   profile_image_url           twitter_id  \\\n",
       "0  https://pbs.twimg.com/profile_images/137454645...  1274105887926284288   \n",
       "1  https://pbs.twimg.com/profile_images/127500460...            268201193   \n",
       "2  https://pbs.twimg.com/profile_images/134773179...  1347730009084059653   \n",
       "\n",
       "   dem_count  rep_count political_orientation  \n",
       "0          0          2                  left  \n",
       "1          0          0               neutral  \n",
       "2         29          0                 right  "
      ]
     },
     "execution_count": 189,
     "metadata": {},
     "output_type": "execute_result"
    }
   ],
   "source": [
    "def assign_party(row):\n",
    "    if row['dem_count'] == row['rep_count'] == 0:\n",
    "        return \"neutral\"\n",
    "    elif row['dem_count'] <= row['rep_count']:\n",
    "        return \"left\"\n",
    "    else:\n",
    "        return \"right\"\n",
    "\n",
    "df_drug_users['political_orientation'] = df_drug_users.apply(assign_party, axis=1)\n",
    "df_drug_users.head(3)"
   ]
  },
  {
   "cell_type": "code",
   "execution_count": 190,
   "id": "6f4e8251-ce51-432d-aad8-a8b3b1a42566",
   "metadata": {},
   "outputs": [
    {
     "data": {
      "text/plain": [
       "(17154, 9)"
      ]
     },
     "execution_count": 190,
     "metadata": {},
     "output_type": "execute_result"
    }
   ],
   "source": [
    "df_drug_users[df_drug_users.political_orientation == \"left\"].shape"
   ]
  },
  {
   "cell_type": "code",
   "execution_count": 191,
   "id": "be519b87-e720-4a2f-80fe-209d90f424b7",
   "metadata": {},
   "outputs": [
    {
     "data": {
      "text/plain": [
       "(34989, 9)"
      ]
     },
     "execution_count": 191,
     "metadata": {},
     "output_type": "execute_result"
    }
   ],
   "source": [
    "df_drug_users[df_drug_users.political_orientation == \"right\"].shape"
   ]
  },
  {
   "cell_type": "code",
   "execution_count": 192,
   "id": "c4c8721e-6c35-4866-aa32-99fae225e6e3",
   "metadata": {},
   "outputs": [
    {
     "data": {
      "text/plain": [
       "(35981, 9)"
      ]
     },
     "execution_count": 192,
     "metadata": {},
     "output_type": "execute_result"
    }
   ],
   "source": [
    "df_drug_users[df_drug_users.political_orientation == \"neutral\"].shape"
   ]
  },
  {
   "cell_type": "code",
   "execution_count": null,
   "id": "29be0eca-bcc2-4136-ab5b-ad39148556aa",
   "metadata": {},
   "outputs": [],
   "source": []
  }
 ],
 "metadata": {
  "kernelspec": {
   "display_name": "Python 3 (ipykernel)",
   "language": "python",
   "name": "python3"
  },
  "language_info": {
   "codemirror_mode": {
    "name": "ipython",
    "version": 3
   },
   "file_extension": ".py",
   "mimetype": "text/x-python",
   "name": "python",
   "nbconvert_exporter": "python",
   "pygments_lexer": "ipython3",
   "version": "3.8.12"
  }
 },
 "nbformat": 4,
 "nbformat_minor": 5
}
