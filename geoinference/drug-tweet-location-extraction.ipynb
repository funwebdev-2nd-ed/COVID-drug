{
 "cells": [
  {
   "cell_type": "code",
   "execution_count": null,
   "metadata": {},
   "outputs": [],
   "source": [
    "import pandas as pd\n",
    "from litecoder.usa import USCityIndex, USStateIndex\n",
    "idx_city = USCityIndex()\n",
    "idx_state = USStateIndex()\n",
    "\n",
    "idx_city.load()\n",
    "idx_state.load()"
   ]
  },
  {
   "cell_type": "code",
   "execution_count": 2,
   "metadata": {},
   "outputs": [
    {
     "data": {
      "text/plain": [
       "('Boston', 'Massachusetts', 'US')"
      ]
     },
     "execution_count": 2,
     "metadata": {},
     "output_type": "execute_result"
    }
   ],
   "source": [
    "def extract_city_state(L):\n",
    "    \"\"\"\n",
    "    returns city, state, country\n",
    "    \"\"\"\n",
    "    if L:\n",
    "        L = str(L)\n",
    "    \n",
    "        if L.lower() in set([\"united states\", \"the united states\", \"u.s.\", \"us\", \"usa\", \"u.s.a\", \"u.s.a.\"]):\n",
    "            return \"\", \"\", \"US\"\n",
    "\n",
    "        r = idx_city[L]\n",
    "        if r:\n",
    "            return r[0]['name'], r[0]['name_a1'], r[0]['country_iso']\n",
    "        r = idx_state[L]\n",
    "        if r:\n",
    "            return \"\", r[0]['name'], r[0]['country_iso']\n",
    "    \n",
    "    return \"\", \"\", \"\"\n",
    "\n",
    "extract_city_state(\"boston ma\")"
   ]
  },
  {
   "cell_type": "code",
   "execution_count": 3,
   "metadata": {},
   "outputs": [],
   "source": [
    "def extract_location_from_user(user):\n",
    "    user = ast.literal_eval(user) if user==user else \"\"\n",
    "    location = user['location'] if \"location\" in user else \"\"\n",
    "    return extract_city_state(location)"
   ]
  },
  {
   "cell_type": "markdown",
   "metadata": {},
   "source": [
    "## all the users by week"
   ]
  },
  {
   "cell_type": "code",
   "execution_count": null,
   "metadata": {
    "scrolled": true
   },
   "outputs": [],
   "source": [
    "from glob import glob\n",
    "import ast\n",
    "from pandarallel import pandarallel\n",
    "\n",
    "pandarallel.initialize()\n",
    "\n",
    "for filename in glob(\"./minimal/*.csv\"):\n",
    "    print(filename)\n",
    "    df = pd.read_csv(filename)\n",
    "    df['triple_loc'] = df.location.parallel_apply(extract_city_state)\n",
    "    df['city'] = df.triple_loc.parallel_apply(lambda x: x[0])\n",
    "    df['state'] = df.triple_loc.parallel_apply(lambda x: x[1])\n",
    "    df['country'] = df.triple_loc.parallel_apply(lambda x: x[2])\n",
    "    df = df.drop([\"triple_loc\", 'Unnamed: 0'], axis=1)\n",
    "    df = df[df.state == \"\"]\n",
    "#     print(df)\n",
    "    out_filename = filename.replace(\"minimal\", \"minimal-output\")\n",
    "    df.to_csv(out_filename, index=False)\n",
    "#     break"
   ]
  },
  {
   "cell_type": "code",
   "execution_count": 13,
   "metadata": {
    "scrolled": true
   },
   "outputs": [
    {
     "data": {
      "text/html": [
       "<div>\n",
       "<style scoped>\n",
       "    .dataframe tbody tr th:only-of-type {\n",
       "        vertical-align: middle;\n",
       "    }\n",
       "\n",
       "    .dataframe tbody tr th {\n",
       "        vertical-align: top;\n",
       "    }\n",
       "\n",
       "    .dataframe thead th {\n",
       "        text-align: right;\n",
       "    }\n",
       "</style>\n",
       "<table border=\"1\" class=\"dataframe\">\n",
       "  <thead>\n",
       "    <tr style=\"text-align: right;\">\n",
       "      <th></th>\n",
       "      <th>week</th>\n",
       "      <th>location</th>\n",
       "      <th>city</th>\n",
       "      <th>state</th>\n",
       "      <th>country</th>\n",
       "    </tr>\n",
       "  </thead>\n",
       "  <tbody>\n",
       "    <tr>\n",
       "      <td>0</td>\n",
       "      <td>71</td>\n",
       "      <td>⬅️ 2m ➡️ Sans social bubble</td>\n",
       "      <td></td>\n",
       "      <td></td>\n",
       "      <td></td>\n",
       "    </tr>\n",
       "    <tr>\n",
       "      <td>2</td>\n",
       "      <td>72</td>\n",
       "      <td>Jakarta Capital Region</td>\n",
       "      <td></td>\n",
       "      <td></td>\n",
       "      <td></td>\n",
       "    </tr>\n",
       "    <tr>\n",
       "      <td>3</td>\n",
       "      <td>72</td>\n",
       "      <td>Kigali, Rwanda</td>\n",
       "      <td></td>\n",
       "      <td></td>\n",
       "      <td></td>\n",
       "    </tr>\n",
       "    <tr>\n",
       "      <td>4</td>\n",
       "      <td>72</td>\n",
       "      <td>Australia</td>\n",
       "      <td></td>\n",
       "      <td></td>\n",
       "      <td></td>\n",
       "    </tr>\n",
       "    <tr>\n",
       "      <td>5</td>\n",
       "      <td>72</td>\n",
       "      <td>NaN</td>\n",
       "      <td></td>\n",
       "      <td></td>\n",
       "      <td></td>\n",
       "    </tr>\n",
       "    <tr>\n",
       "      <td>...</td>\n",
       "      <td>...</td>\n",
       "      <td>...</td>\n",
       "      <td>...</td>\n",
       "      <td>...</td>\n",
       "      <td>...</td>\n",
       "    </tr>\n",
       "    <tr>\n",
       "      <td>1498016</td>\n",
       "      <td>73</td>\n",
       "      <td>United States</td>\n",
       "      <td></td>\n",
       "      <td></td>\n",
       "      <td>US</td>\n",
       "    </tr>\n",
       "    <tr>\n",
       "      <td>1498017</td>\n",
       "      <td>73</td>\n",
       "      <td>NaN</td>\n",
       "      <td></td>\n",
       "      <td></td>\n",
       "      <td></td>\n",
       "    </tr>\n",
       "    <tr>\n",
       "      <td>1498018</td>\n",
       "      <td>75</td>\n",
       "      <td>Northen Hemisphere</td>\n",
       "      <td></td>\n",
       "      <td></td>\n",
       "      <td></td>\n",
       "    </tr>\n",
       "    <tr>\n",
       "      <td>1498019</td>\n",
       "      <td>73</td>\n",
       "      <td>Oxford</td>\n",
       "      <td></td>\n",
       "      <td></td>\n",
       "      <td></td>\n",
       "    </tr>\n",
       "    <tr>\n",
       "      <td>1498020</td>\n",
       "      <td>74</td>\n",
       "      <td>NaN</td>\n",
       "      <td></td>\n",
       "      <td></td>\n",
       "      <td></td>\n",
       "    </tr>\n",
       "  </tbody>\n",
       "</table>\n",
       "<p>1285905 rows × 5 columns</p>\n",
       "</div>"
      ],
      "text/plain": [
       "         week                     location city state country\n",
       "0          71  ⬅️ 2m ➡️ Sans social bubble                   \n",
       "2          72       Jakarta Capital Region                   \n",
       "3          72               Kigali, Rwanda                   \n",
       "4          72                    Australia                   \n",
       "5          72                          NaN                   \n",
       "...       ...                          ...  ...   ...     ...\n",
       "1498016    73                United States                 US\n",
       "1498017    73                          NaN                   \n",
       "1498018    75           Northen Hemisphere                   \n",
       "1498019    73                       Oxford                   \n",
       "1498020    74                          NaN                   \n",
       "\n",
       "[1285905 rows x 5 columns]"
      ]
     },
     "execution_count": 13,
     "metadata": {},
     "output_type": "execute_result"
    }
   ],
   "source": [
    "df"
   ]
  },
  {
   "cell_type": "markdown",
   "metadata": {},
   "source": [
    "## drug users"
   ]
  },
  {
   "cell_type": "code",
   "execution_count": null,
   "metadata": {
    "scrolled": true
   },
   "outputs": [],
   "source": [
    "from glob import glob\n",
    "import ast\n",
    "\n",
    "for filename in glob(\"./*.csv\"):\n",
    "    print(filename)\n",
    "    df = pd.read_csv(filename)\n",
    "#     df = df.head(1000)\n",
    "    df['triple_loc'] = df.user.apply(extract_location_from_user)\n",
    "#     df['triple_loc'] = df.user.apply(lambda x: extract_city_state(ast.literal_eval(x)['location']))\n",
    "    df['city'] = df.triple_loc.apply(lambda x: x[0])\n",
    "    df['state'] = df.triple_loc.apply(lambda x: x[1])\n",
    "    df['country'] = df.triple_loc.apply(lambda x: x[2])\n",
    "    df = df.drop([\"triple_loc\"], axis=1)\n",
    "    df.to_csv(\"./output/new_{}\".format(filename[2:]))\n",
    "#     break\n",
    "# df_12months['triple_loc'] = df_12months.location.apply(extract_city_state)\n",
    "#     break"
   ]
  },
  {
   "cell_type": "code",
   "execution_count": 56,
   "metadata": {},
   "outputs": [
    {
     "name": "stdout",
     "output_type": "stream",
     "text": [
      "./output/new_molnupiravir_all.csv\n"
     ]
    },
    {
     "name": "stderr",
     "output_type": "stream",
     "text": [
      "/Users/hjian42/opt/anaconda3/lib/python3.7/site-packages/IPython/core/interactiveshell.py:3049: DtypeWarning: Columns (5,12) have mixed types. Specify dtype option on import or set low_memory=False.\n",
      "  interactivity=interactivity, compiler=compiler, result=result)\n"
     ]
    },
    {
     "name": "stdout",
     "output_type": "stream",
     "text": [
      "before de-dup: 17862 66149 0.270026757774116\n",
      "after de-dup: 17536 65034 0.26964357105514036\n",
      "./output/new_hcq_all.csv\n"
     ]
    },
    {
     "name": "stderr",
     "output_type": "stream",
     "text": [
      "/Users/hjian42/opt/anaconda3/lib/python3.7/site-packages/IPython/core/interactiveshell.py:3049: DtypeWarning: Columns (2,9,12) have mixed types. Specify dtype option on import or set low_memory=False.\n",
      "  interactivity=interactivity, compiler=compiler, result=result)\n"
     ]
    },
    {
     "name": "stdout",
     "output_type": "stream",
     "text": [
      "before de-dup: 184856 646553 0.285910049137503\n",
      "after de-dup: 182310 613640 0.2970960172087869\n",
      "./output/new_remdesivir_all.csv\n",
      "before de-dup: 45598 195217 0.23357596930595184\n",
      "after de-dup: 44034 190080 0.23166035353535352\n",
      "./output/new_ivermectin_all.csv\n"
     ]
    },
    {
     "name": "stderr",
     "output_type": "stream",
     "text": [
      "/Users/hjian42/opt/anaconda3/lib/python3.7/site-packages/IPython/core/interactiveshell.py:3049: DtypeWarning: Columns (2,5,9,12) have mixed types. Specify dtype option on import or set low_memory=False.\n",
      "  interactivity=interactivity, compiler=compiler, result=result)\n"
     ]
    },
    {
     "name": "stdout",
     "output_type": "stream",
     "text": [
      "before de-dup: 153486 682568 0.22486550790543947\n",
      "after de-dup: 151443 669080 0.2263451306271298\n"
     ]
    }
   ],
   "source": [
    "for filename in glob(\"./output/*.csv\"):\n",
    "    print(filename)\n",
    "    df = pd.read_csv(filename)\n",
    "    remain_num, total_num = df[df.country == \"US\"].shape[0], df.shape[0]\n",
    "    print(\"before de-dup:\", remain_num, total_num, remain_num/total_num)\n",
    "    df['name_tweet'] = df.screen_name + df.full_text\n",
    "    df = df.drop_duplicates(subset='name_tweet', keep='first')\n",
    "    remain_num, total_num = df[df.country == \"US\"].shape[0], df.shape[0]\n",
    "    print(\"after de-dup:\", remain_num, total_num, remain_num/total_num)\n"
   ]
  },
  {
   "cell_type": "code",
   "execution_count": 55,
   "metadata": {},
   "outputs": [
    {
     "data": {
      "text/plain": [
       "669080"
      ]
     },
     "execution_count": 55,
     "metadata": {},
     "output_type": "execute_result"
    }
   ],
   "source": [
    "df.shape[0]"
   ]
  }
 ],
 "metadata": {
  "kernelspec": {
   "display_name": "Python 3 (ipykernel)",
   "language": "python",
   "name": "python3"
  },
  "language_info": {
   "codemirror_mode": {
    "name": "ipython",
    "version": 3
   },
   "file_extension": ".py",
   "mimetype": "text/x-python",
   "name": "python",
   "nbconvert_exporter": "python",
   "pygments_lexer": "ipython3",
   "version": "3.8.12"
  }
 },
 "nbformat": 4,
 "nbformat_minor": 4
}
