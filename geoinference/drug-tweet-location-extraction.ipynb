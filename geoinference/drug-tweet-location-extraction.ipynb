{
 "cells": [
  {
   "cell_type": "code",
   "execution_count": 1,
   "metadata": {},
   "outputs": [
    {
     "name": "stderr",
     "output_type": "stream",
     "text": [
      "/Users/hjian42/opt/anaconda3/lib/python3.7/site-packages/litecoder/models/wof_locality.py:24: YAMLLoadWarning: calling yaml.load() without Loader=... is deprecated, as the default Loader is unsafe. Please read https://msg.pyyaml.org/load for full details.\n",
      "  'litecoder', 'data/city-alt-names.yml'\n"
     ]
    }
   ],
   "source": [
    "import pandas as pd\n",
    "from litecoder.usa import USCityIndex, USStateIndex\n",
    "idx_city = USCityIndex()\n",
    "idx_state = USStateIndex()\n",
    "\n",
    "idx_city.load()\n",
    "idx_state.load()"
   ]
  },
  {
   "cell_type": "code",
   "execution_count": 2,
   "metadata": {},
   "outputs": [
    {
     "data": {
      "text/plain": [
       "('Boston', 'Massachusetts', 'US')"
      ]
     },
     "execution_count": 2,
     "metadata": {},
     "output_type": "execute_result"
    }
   ],
   "source": [
    "def extract_city_state(L):\n",
    "    \"\"\"\n",
    "    returns city, state, country\n",
    "    \"\"\"\n",
    "    if L:\n",
    "        L = str(L)\n",
    "    \n",
    "        if L.lower() in set([\"united states\", \"the united states\", \"u.s.\", \"us\", \"usa\", \"u.s.a\", \"u.s.a.\"]):\n",
    "            return \"\", \"\", \"US\"\n",
    "\n",
    "        r = idx_city[L]\n",
    "        if r:\n",
    "            return r[0]['name'], r[0]['name_a1'], r[0]['country_iso']\n",
    "        r = idx_state[L]\n",
    "        if r:\n",
    "            return \"\", r[0]['name'], r[0]['country_iso']\n",
    "    \n",
    "    return \"\", \"\", \"\"\n",
    "\n",
    "extract_city_state(\"boston ma\")"
   ]
  },
  {
   "cell_type": "code",
   "execution_count": 3,
   "metadata": {},
   "outputs": [],
   "source": [
    "def extract_location_from_user(user):\n",
    "    user = ast.literal_eval(user) if user==user else \"\"\n",
    "    location = user['location'] if \"location\" in user else \"\"\n",
    "    return extract_city_state(location)"
   ]
  },
  {
   "cell_type": "markdown",
   "metadata": {},
   "source": [
    "## all the users by week"
   ]
  },
  {
   "cell_type": "code",
   "execution_count": 12,
   "metadata": {
    "scrolled": true
   },
   "outputs": [
    {
     "name": "stdout",
     "output_type": "stream",
     "text": [
      "INFO: Pandarallel will run on 16 workers.\n",
      "INFO: Pandarallel will use standard multiprocessing data transfer (pipe) to transfer data between the main process and workers.\n",
      "./minimal/6_4.csv\n",
      "./minimal/12_18.csv\n",
      "./minimal/14_9.csv\n",
      "./minimal/4_6.csv\n",
      "./minimal/October_3.csv\n",
      "./minimal/October_2.csv\n",
      "./minimal/April_4.csv\n",
      "./minimal/4_7.csv\n",
      "./minimal/12_19.csv\n",
      "./minimal/14_8.csv\n",
      "./minimal/6_5.csv\n",
      "./minimal/6_7.csv\n",
      "./minimal/8_8.csv\n",
      "./minimal/4_5.csv\n",
      "./minimal/7_31.csv\n",
      "./minimal/October_0.csv\n",
      "./minimal/October_1.csv\n",
      "./minimal/4_4.csv\n",
      "./minimal/8_9.csv\n",
      "./minimal/6_6.csv\n",
      "./minimal/6_2.csv\n",
      "./minimal/4_0.csv\n",
      "./minimal/April_3.csv\n",
      "./minimal/dec_19.csv\n",
      "./minimal/5_19.csv\n",
      "./minimal/12_9.csv\n",
      "./minimal/12_8.csv\n",
      "./minimal/5_18.csv\n",
      "./minimal/dec_18.csv\n",
      "./minimal/April_2.csv\n",
      "./minimal/October_4.csv\n",
      "./minimal/4_1.csv\n",
      "./minimal/6_3.csv\n",
      "./minimal/6_1.csv\n",
      "./minimal/4_3.csv\n",
      "./minimal/April_0.csv\n",
      "./minimal/10_8.csv\n",
      "./minimal/10_9.csv\n",
      "./minimal/April_1.csv\n",
      "./minimal/4_2.csv\n",
      "./minimal/6_0.csv\n",
      "./minimal/3_3.csv\n",
      "./minimal/dec_2.csv\n",
      "./minimal/5_5.csv\n",
      "./minimal/13_13.csv\n",
      "./minimal/7_7.csv\n",
      "./minimal/9_8.csv\n",
      "./minimal/9_9.csv\n",
      "./minimal/7_6.csv\n",
      "./minimal/13_12.csv\n",
      "./minimal/5_4.csv\n",
      "./minimal/dec_3.csv\n",
      "./minimal/3_2.csv\n",
      "./minimal/May_4.csv\n",
      "./minimal/3_0.csv\n",
      "./minimal/dec_1.csv\n",
      "./minimal/5_6.csv\n",
      "./minimal/14_19.csv\n",
      "./minimal/13_10.csv\n",
      "./minimal/7_4.csv\n",
      "./minimal/7_5.csv\n",
      "./minimal/14_18.csv\n",
      "./minimal/13_11.csv\n",
      "./minimal/5_7.csv\n",
      "./minimal/dec_0.csv\n",
      "./minimal/3_1.csv\n",
      "./minimal/August_4.csv\n",
      "./minimal/May_3.csv\n",
      "./minimal/August_0.csv\n",
      "./minimal/3_5.csv\n",
      "./minimal/dec_4.csv\n",
      "./minimal/5_3.csv\n",
      "./minimal/13_15.csv\n",
      "./minimal/7_1.csv\n",
      "./minimal/7_0.csv\n",
      "./minimal/13_14.csv\n",
      "./minimal/5_2.csv\n",
      "./minimal/dec_5.csv\n",
      "./minimal/3_4.csv\n",
      "./minimal/August_1.csv\n",
      "./minimal/May_2.csv\n",
      "./minimal/May_0.csv\n",
      "./minimal/August_3.csv\n",
      "./minimal/13_9.csv\n",
      "./minimal/3_6.csv\n",
      "./minimal/dec_7.csv\n",
      "./minimal/5_0.csv\n",
      "./minimal/13_16.csv\n",
      "./minimal/7_2.csv\n",
      "./minimal/7_3.csv\n",
      "./minimal/13_17.csv\n",
      "./minimal/5_1.csv\n",
      "./minimal/dec_6.csv\n",
      "./minimal/3_7.csv\n",
      "./minimal/13_8.csv\n",
      "./minimal/August_2.csv\n",
      "./minimal/May_1.csv\n",
      "./minimal/13_5.csv\n",
      "./minimal/14_13.csv\n",
      "./minimal/February_2.csv\n",
      "./minimal/9_1.csv\n",
      "./minimal/9_0.csv\n",
      "./minimal/February_3.csv\n",
      "./minimal/14_12.csv\n",
      "./minimal/13_4.csv\n",
      "./minimal/13_6.csv\n",
      "./minimal/3_9.csv\n",
      "./minimal/dec_8.csv\n",
      "./minimal/11_4.csv\n",
      "./minimal/July_4.csv\n",
      "./minimal/13_19.csv\n",
      "./minimal/14_10.csv\n",
      "./minimal/February_1.csv\n",
      "./minimal/November_4.csv\n",
      "./minimal/9_2.csv\n",
      "./minimal/9_3.csv\n",
      "./minimal/February_0.csv\n",
      "./minimal/13_18.csv\n",
      "./minimal/14_11.csv\n",
      "./minimal/dec_9.csv\n",
      "./minimal/3_8.csv\n",
      "./minimal/13_7.csv\n",
      "./minimal/13_3.csv\n",
      "./minimal/11_1.csv\n",
      "./minimal/July_1.csv\n",
      "./minimal/February_4.csv\n",
      "./minimal/November_1.csv\n",
      "./minimal/14_15.csv\n",
      "./minimal/7_8.csv\n",
      "./minimal/9_7.csv\n",
      "./minimal/9_6.csv\n",
      "./minimal/7_9.csv\n",
      "./minimal/14_14.csv\n",
      "./minimal/November_0.csv\n",
      "./minimal/July_0.csv\n",
      "./minimal/11_0.csv\n",
      "./minimal/13_2.csv\n",
      "./minimal/13_0.csv\n",
      "./minimal/11_2.csv\n",
      "./minimal/5_9.csv\n",
      "./minimal/July_2.csv\n",
      "./minimal/November_2.csv\n",
      "./minimal/14_16.csv\n",
      "./minimal/9_4.csv\n",
      "./minimal/9_5.csv\n",
      "./minimal/14_17.csv\n",
      "./minimal/November_3.csv\n",
      "./minimal/July_3.csv\n",
      "./minimal/5_8.csv\n",
      "./minimal/11_3.csv\n",
      "./minimal/13_1.csv\n",
      "./minimal/14_0.csv\n",
      "./minimal/12_11.csv\n",
      "./minimal/September_4.csv\n",
      "./minimal/8_2.csv\n",
      "./minimal/March_4.csv\n",
      "./minimal/dec_16.csv\n",
      "./minimal/10_4.csv\n",
      "./minimal/5_16.csv\n",
      "./minimal/12_6.csv\n",
      "./minimal/12_7.csv\n",
      "./minimal/5_17.csv\n",
      "./minimal/10_5.csv\n",
      "./minimal/dec_17.csv\n",
      "./minimal/8_3.csv\n",
      "./minimal/14_1.csv\n",
      "./minimal/12_10.csv\n",
      "./minimal/12_12.csv\n",
      "./minimal/14_3.csv\n",
      "./minimal/June_4.csv\n",
      "./minimal/8_1.csv\n",
      "./minimal/10_7.csv\n",
      "./minimal/dec_15.csv\n",
      "./minimal/5_15.csv\n",
      "./minimal/12_5.csv\n",
      "./minimal/12_4.csv\n",
      "./minimal/5_14.csv\n",
      "./minimal/dec_14.csv\n",
      "./minimal/10_6.csv\n",
      "./minimal/8_0.csv\n",
      "./minimal/12_13.csv\n",
      "./minimal/14_2.csv\n",
      "./minimal/8_4.csv\n",
      "./minimal/June_1.csv\n",
      "./minimal/September_2.csv\n",
      "./minimal/14_6.csv\n",
      "./minimal/12_17.csv\n",
      "./minimal/4_9.csv\n",
      "./minimal/March_2.csv\n",
      "./minimal/5_10.csv\n",
      "./minimal/10_2.csv\n",
      "./minimal/dec_10.csv\n",
      "./minimal/12_0.csv\n",
      "./minimal/12_1.csv\n",
      "./minimal/dec_11.csv\n",
      "./minimal/10_3.csv\n",
      "./minimal/5_11.csv\n",
      "./minimal/March_3.csv\n",
      "./minimal/4_8.csv\n",
      "./minimal/14_7.csv\n",
      "./minimal/12_16.csv\n",
      "./minimal/September_3.csv\n",
      "./minimal/8_5.csv\n",
      "./minimal/June_0.csv\n",
      "./minimal/6_8.csv\n",
      "./minimal/September_1.csv\n",
      "./minimal/June_2.csv\n",
      "./minimal/8_7.csv\n",
      "./minimal/12_14.csv\n",
      "./minimal/14_5.csv\n",
      "./minimal/March_1.csv\n",
      "./minimal/5_13.csv\n",
      "./minimal/dec_13.csv\n",
      "./minimal/10_1.csv\n",
      "./minimal/8_27-31.csv\n",
      "./minimal/12_3.csv\n",
      "./minimal/12_2.csv\n",
      "./minimal/10_0.csv\n",
      "./minimal/dec_12.csv\n",
      "./minimal/5_12.csv\n",
      "./minimal/March_0.csv\n",
      "./minimal/12_15.csv\n",
      "./minimal/14_4.csv\n",
      "./minimal/June_3.csv\n",
      "./minimal/8_6.csv\n",
      "./minimal/September_0.csv\n",
      "./minimal/6_9.csv\n"
     ]
    }
   ],
   "source": [
    "from glob import glob\n",
    "import ast\n",
    "from pandarallel import pandarallel\n",
    "\n",
    "pandarallel.initialize()\n",
    "\n",
    "for filename in glob(\"./minimal/*.csv\"):\n",
    "    print(filename)\n",
    "    df = pd.read_csv(filename)\n",
    "    df['triple_loc'] = df.location.parallel_apply(extract_city_state)\n",
    "    df['city'] = df.triple_loc.parallel_apply(lambda x: x[0])\n",
    "    df['state'] = df.triple_loc.parallel_apply(lambda x: x[1])\n",
    "    df['country'] = df.triple_loc.parallel_apply(lambda x: x[2])\n",
    "    df = df.drop([\"triple_loc\", 'Unnamed: 0'], axis=1)\n",
    "    df = df[df.state == \"\"]\n",
    "#     print(df)\n",
    "    out_filename = filename.replace(\"minimal\", \"minimal-output\")\n",
    "    df.to_csv(out_filename, index=False)\n",
    "#     break"
   ]
  },
  {
   "cell_type": "code",
   "execution_count": 13,
   "metadata": {
    "scrolled": true
   },
   "outputs": [
    {
     "data": {
      "text/html": [
       "<div>\n",
       "<style scoped>\n",
       "    .dataframe tbody tr th:only-of-type {\n",
       "        vertical-align: middle;\n",
       "    }\n",
       "\n",
       "    .dataframe tbody tr th {\n",
       "        vertical-align: top;\n",
       "    }\n",
       "\n",
       "    .dataframe thead th {\n",
       "        text-align: right;\n",
       "    }\n",
       "</style>\n",
       "<table border=\"1\" class=\"dataframe\">\n",
       "  <thead>\n",
       "    <tr style=\"text-align: right;\">\n",
       "      <th></th>\n",
       "      <th>week</th>\n",
       "      <th>location</th>\n",
       "      <th>city</th>\n",
       "      <th>state</th>\n",
       "      <th>country</th>\n",
       "    </tr>\n",
       "  </thead>\n",
       "  <tbody>\n",
       "    <tr>\n",
       "      <td>0</td>\n",
       "      <td>71</td>\n",
       "      <td>⬅️ 2m ➡️ Sans social bubble</td>\n",
       "      <td></td>\n",
       "      <td></td>\n",
       "      <td></td>\n",
       "    </tr>\n",
       "    <tr>\n",
       "      <td>2</td>\n",
       "      <td>72</td>\n",
       "      <td>Jakarta Capital Region</td>\n",
       "      <td></td>\n",
       "      <td></td>\n",
       "      <td></td>\n",
       "    </tr>\n",
       "    <tr>\n",
       "      <td>3</td>\n",
       "      <td>72</td>\n",
       "      <td>Kigali, Rwanda</td>\n",
       "      <td></td>\n",
       "      <td></td>\n",
       "      <td></td>\n",
       "    </tr>\n",
       "    <tr>\n",
       "      <td>4</td>\n",
       "      <td>72</td>\n",
       "      <td>Australia</td>\n",
       "      <td></td>\n",
       "      <td></td>\n",
       "      <td></td>\n",
       "    </tr>\n",
       "    <tr>\n",
       "      <td>5</td>\n",
       "      <td>72</td>\n",
       "      <td>NaN</td>\n",
       "      <td></td>\n",
       "      <td></td>\n",
       "      <td></td>\n",
       "    </tr>\n",
       "    <tr>\n",
       "      <td>...</td>\n",
       "      <td>...</td>\n",
       "      <td>...</td>\n",
       "      <td>...</td>\n",
       "      <td>...</td>\n",
       "      <td>...</td>\n",
       "    </tr>\n",
       "    <tr>\n",
       "      <td>1498016</td>\n",
       "      <td>73</td>\n",
       "      <td>United States</td>\n",
       "      <td></td>\n",
       "      <td></td>\n",
       "      <td>US</td>\n",
       "    </tr>\n",
       "    <tr>\n",
       "      <td>1498017</td>\n",
       "      <td>73</td>\n",
       "      <td>NaN</td>\n",
       "      <td></td>\n",
       "      <td></td>\n",
       "      <td></td>\n",
       "    </tr>\n",
       "    <tr>\n",
       "      <td>1498018</td>\n",
       "      <td>75</td>\n",
       "      <td>Northen Hemisphere</td>\n",
       "      <td></td>\n",
       "      <td></td>\n",
       "      <td></td>\n",
       "    </tr>\n",
       "    <tr>\n",
       "      <td>1498019</td>\n",
       "      <td>73</td>\n",
       "      <td>Oxford</td>\n",
       "      <td></td>\n",
       "      <td></td>\n",
       "      <td></td>\n",
       "    </tr>\n",
       "    <tr>\n",
       "      <td>1498020</td>\n",
       "      <td>74</td>\n",
       "      <td>NaN</td>\n",
       "      <td></td>\n",
       "      <td></td>\n",
       "      <td></td>\n",
       "    </tr>\n",
       "  </tbody>\n",
       "</table>\n",
       "<p>1285905 rows × 5 columns</p>\n",
       "</div>"
      ],
      "text/plain": [
       "         week                     location city state country\n",
       "0          71  ⬅️ 2m ➡️ Sans social bubble                   \n",
       "2          72       Jakarta Capital Region                   \n",
       "3          72               Kigali, Rwanda                   \n",
       "4          72                    Australia                   \n",
       "5          72                          NaN                   \n",
       "...       ...                          ...  ...   ...     ...\n",
       "1498016    73                United States                 US\n",
       "1498017    73                          NaN                   \n",
       "1498018    75           Northen Hemisphere                   \n",
       "1498019    73                       Oxford                   \n",
       "1498020    74                          NaN                   \n",
       "\n",
       "[1285905 rows x 5 columns]"
      ]
     },
     "execution_count": 13,
     "metadata": {},
     "output_type": "execute_result"
    }
   ],
   "source": [
    "df"
   ]
  },
  {
   "cell_type": "code",
   "execution_count": null,
   "metadata": {},
   "outputs": [],
   "source": []
  },
  {
   "cell_type": "code",
   "execution_count": null,
   "metadata": {},
   "outputs": [],
   "source": []
  },
  {
   "cell_type": "markdown",
   "metadata": {},
   "source": [
    "## drug users"
   ]
  },
  {
   "cell_type": "code",
   "execution_count": 4,
   "metadata": {
    "scrolled": true
   },
   "outputs": [
    {
     "name": "stdout",
     "output_type": "stream",
     "text": [
      "./hcq_all.csv\n",
      "./molnupiravir_all.csv\n"
     ]
    },
    {
     "name": "stderr",
     "output_type": "stream",
     "text": [
      "/Users/hjian42/opt/anaconda3/lib/python3.7/site-packages/IPython/core/interactiveshell.py:3049: DtypeWarning: Columns (4) have mixed types. Specify dtype option on import or set low_memory=False.\n",
      "  interactivity=interactivity, compiler=compiler, result=result)\n"
     ]
    },
    {
     "name": "stdout",
     "output_type": "stream",
     "text": [
      "./ivermectin_all.csv\n"
     ]
    },
    {
     "name": "stderr",
     "output_type": "stream",
     "text": [
      "/Users/hjian42/opt/anaconda3/lib/python3.7/site-packages/IPython/core/interactiveshell.py:3049: DtypeWarning: Columns (1,8) have mixed types. Specify dtype option on import or set low_memory=False.\n",
      "  interactivity=interactivity, compiler=compiler, result=result)\n"
     ]
    },
    {
     "name": "stdout",
     "output_type": "stream",
     "text": [
      "./remdesivir_all.csv\n"
     ]
    }
   ],
   "source": [
    "from glob import glob\n",
    "import ast\n",
    "\n",
    "for filename in glob(\"./*.csv\"):\n",
    "    print(filename)\n",
    "    df = pd.read_csv(filename)\n",
    "#     df = df.head(1000)\n",
    "    df['triple_loc'] = df.user.apply(extract_location_from_user)\n",
    "#     df['triple_loc'] = df.user.apply(lambda x: extract_city_state(ast.literal_eval(x)['location']))\n",
    "    df['city'] = df.triple_loc.apply(lambda x: x[0])\n",
    "    df['state'] = df.triple_loc.apply(lambda x: x[1])\n",
    "    df['country'] = df.triple_loc.apply(lambda x: x[2])\n",
    "    df = df.drop([\"triple_loc\"], axis=1)\n",
    "    df.to_csv(\"./output/new_{}\".format(filename[2:]))\n",
    "#     break\n",
    "# df_12months['triple_loc'] = df_12months.location.apply(extract_city_state)\n",
    "#     break"
   ]
  },
  {
   "cell_type": "code",
   "execution_count": 56,
   "metadata": {},
   "outputs": [
    {
     "name": "stdout",
     "output_type": "stream",
     "text": [
      "./output/new_molnupiravir_all.csv\n"
     ]
    },
    {
     "name": "stderr",
     "output_type": "stream",
     "text": [
      "/Users/hjian42/opt/anaconda3/lib/python3.7/site-packages/IPython/core/interactiveshell.py:3049: DtypeWarning: Columns (5,12) have mixed types. Specify dtype option on import or set low_memory=False.\n",
      "  interactivity=interactivity, compiler=compiler, result=result)\n"
     ]
    },
    {
     "name": "stdout",
     "output_type": "stream",
     "text": [
      "before de-dup: 17862 66149 0.270026757774116\n",
      "after de-dup: 17536 65034 0.26964357105514036\n",
      "./output/new_hcq_all.csv\n"
     ]
    },
    {
     "name": "stderr",
     "output_type": "stream",
     "text": [
      "/Users/hjian42/opt/anaconda3/lib/python3.7/site-packages/IPython/core/interactiveshell.py:3049: DtypeWarning: Columns (2,9,12) have mixed types. Specify dtype option on import or set low_memory=False.\n",
      "  interactivity=interactivity, compiler=compiler, result=result)\n"
     ]
    },
    {
     "name": "stdout",
     "output_type": "stream",
     "text": [
      "before de-dup: 184856 646553 0.285910049137503\n",
      "after de-dup: 182310 613640 0.2970960172087869\n",
      "./output/new_remdesivir_all.csv\n",
      "before de-dup: 45598 195217 0.23357596930595184\n",
      "after de-dup: 44034 190080 0.23166035353535352\n",
      "./output/new_ivermectin_all.csv\n"
     ]
    },
    {
     "name": "stderr",
     "output_type": "stream",
     "text": [
      "/Users/hjian42/opt/anaconda3/lib/python3.7/site-packages/IPython/core/interactiveshell.py:3049: DtypeWarning: Columns (2,5,9,12) have mixed types. Specify dtype option on import or set low_memory=False.\n",
      "  interactivity=interactivity, compiler=compiler, result=result)\n"
     ]
    },
    {
     "name": "stdout",
     "output_type": "stream",
     "text": [
      "before de-dup: 153486 682568 0.22486550790543947\n",
      "after de-dup: 151443 669080 0.2263451306271298\n"
     ]
    }
   ],
   "source": [
    "for filename in glob(\"./output/*.csv\"):\n",
    "    print(filename)\n",
    "    df = pd.read_csv(filename)\n",
    "    remain_num, total_num = df[df.country == \"US\"].shape[0], df.shape[0]\n",
    "    print(\"before de-dup:\", remain_num, total_num, remain_num/total_num)\n",
    "    df['name_tweet'] = df.screen_name + df.full_text\n",
    "    df = df.drop_duplicates(subset='name_tweet', keep='first')\n",
    "    remain_num, total_num = df[df.country == \"US\"].shape[0], df.shape[0]\n",
    "    print(\"after de-dup:\", remain_num, total_num, remain_num/total_num)\n"
   ]
  },
  {
   "cell_type": "code",
   "execution_count": 55,
   "metadata": {},
   "outputs": [
    {
     "data": {
      "text/plain": [
       "669080"
      ]
     },
     "execution_count": 55,
     "metadata": {},
     "output_type": "execute_result"
    }
   ],
   "source": [
    "df.shape[0]"
   ]
  },
  {
   "cell_type": "code",
   "execution_count": null,
   "metadata": {},
   "outputs": [],
   "source": []
  },
  {
   "cell_type": "code",
   "execution_count": null,
   "metadata": {},
   "outputs": [],
   "source": []
  },
  {
   "cell_type": "code",
   "execution_count": null,
   "metadata": {},
   "outputs": [],
   "source": []
  },
  {
   "cell_type": "code",
   "execution_count": null,
   "metadata": {},
   "outputs": [],
   "source": []
  },
  {
   "cell_type": "code",
   "execution_count": null,
   "metadata": {},
   "outputs": [],
   "source": []
  },
  {
   "cell_type": "code",
   "execution_count": null,
   "metadata": {},
   "outputs": [],
   "source": []
  }
 ],
 "metadata": {
  "kernelspec": {
   "display_name": "Python 3 (ipykernel)",
   "language": "python",
   "name": "python3"
  },
  "language_info": {
   "codemirror_mode": {
    "name": "ipython",
    "version": 3
   },
   "file_extension": ".py",
   "mimetype": "text/x-python",
   "name": "python",
   "nbconvert_exporter": "python",
   "pygments_lexer": "ipython3",
   "version": "3.8.12"
  }
 },
 "nbformat": 4,
 "nbformat_minor": 4
}
