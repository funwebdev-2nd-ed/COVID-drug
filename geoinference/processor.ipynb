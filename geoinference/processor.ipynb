{
 "cells": [
  {
   "cell_type": "code",
   "execution_count": 1,
   "metadata": {},
   "outputs": [
    {
     "name": "stdout",
     "output_type": "stream",
     "text": [
      "INFO: Pandarallel will run on 48 workers.\n",
      "INFO: Pandarallel will use Memory file system to transfer data between the main process and workers.\n"
     ]
    }
   ],
   "source": [
    "import pandas as pd\n",
    "from pandarallel import pandarallel\n",
    "pandarallel.initialize()"
   ]
  },
  {
   "cell_type": "markdown",
   "metadata": {},
   "source": [
    "### Concat all data "
   ]
  },
  {
   "cell_type": "code",
   "execution_count": 3,
   "metadata": {},
   "outputs": [],
   "source": [
    "drugs = [\"hcq\",\"ivermectin\",\"molnupiravir\",\"remdesivir\"]\n",
    "data_dir = \"../data/final/\"\n",
    "dfs = []\n",
    "for drug in drugs:\n",
    "    df = pd.read_csv(f\"{data_dir}{drug}.csv\",header=0,lineterminator='\\n')\n",
    "    if \"Unnamed: 0\" in df.columns:\n",
    "        df = df.drop(\"Unnamed: 0\",axis=1)\n",
    "    df[\"drug\"] = drug\n",
    "    dfs.append(df)\n",
    "df = pd.concat(dfs)\n",
    "# df = df[df[\"created_at\"].str.contains(\"\\+0000\")]"
   ]
  },
  {
   "cell_type": "code",
   "execution_count": 4,
   "metadata": {},
   "outputs": [
    {
     "data": {
      "text/plain": [
       "127491"
      ]
     },
     "execution_count": 4,
     "metadata": {},
     "output_type": "execute_result"
    }
   ],
   "source": [
    "len(df.screen_name.unique())"
   ]
  },
  {
   "cell_type": "markdown",
   "metadata": {},
   "source": [
    "### convert date to week and wave"
   ]
  },
  {
   "cell_type": "code",
   "execution_count": 7,
   "metadata": {},
   "outputs": [],
   "source": [
    "from datetime import datetime\n",
    "\n",
    "# set the first date of the datasets: 2020-01-22\n",
    "start_date = datetime.strptime(\"01/22/2020\", \"%m/%d/%Y\").date()\n",
    "print(f\"Start date: {start_date}\")\n",
    "# set the end date 2020-12-31\n",
    "end_date = datetime.strptime(\"11/30/2021\", \"%m/%d/%Y\").date()\n",
    "print(f\"End date: {end_date}\")\n",
    "\n",
    "\n",
    "import math\n",
    "from dateutils import timedelta\n",
    "\n",
    "def to_week(x):\n",
    "    if x:\n",
    "        return math.ceil((x + timedelta(days=1) - start_date) / timedelta(weeks=1))\n",
    "    return np.nan\n",
    "    \n",
    "def to_date(week):\n",
    "    return start_date + timedelta(weeks=week-1)\n",
    "\n",
    "import numpy as np\n",
    "import tqdm\n",
    "\n",
    "def map_date(x):\n",
    "    try:\n",
    "        return datetime.strptime(x, \"%a %b %d %H:%M:%S %z %Y\").date()\n",
    "    except:\n",
    "        return np.nan\n",
    "\n",
    "def map_wave(x):\n",
    "    if x<35:\n",
    "        return 1\n",
    "    elif x>=77:\n",
    "        return 3\n",
    "    else:\n",
    "        return 2\n",
    "\n",
    "df[\"date\"] = df[\"created_at\"].parallel_apply(lambda x: map_date(x))\n",
    "df = df.dropna(subset=[\"date\",\"state\",\"full_text\"])\n",
    "df[\"week\"] = df[\"date\"].parallel_apply(lambda x: to_week(x))\n",
    "\n",
    "df[\"wave\"] = df.week.apply(lambda x: map_wave(x))\n"
   ]
  },
  {
   "cell_type": "markdown",
   "metadata": {},
   "source": [
    "### Map state"
   ]
  },
  {
   "cell_type": "code",
   "execution_count": null,
   "metadata": {},
   "outputs": [
    {
     "data": {
      "text/plain": [
       "549388"
      ]
     },
     "execution_count": 163,
     "metadata": {},
     "output_type": "execute_result"
    }
   ],
   "source": [
    "len(df)"
   ]
  },
  {
   "cell_type": "code",
   "execution_count": 8,
   "metadata": {},
   "outputs": [
    {
     "data": {
      "text/plain": [
       "Index(['id', 'full_text', 'screen_name', 'state', 'stance', 'med', 'date',\n",
       "       'week', 'wave', 'desensitized_text', 'drug'],\n",
       "      dtype='object')"
      ]
     },
     "execution_count": 8,
     "metadata": {},
     "output_type": "execute_result"
    }
   ],
   "source": [
    "df.columns"
   ]
  },
  {
   "cell_type": "code",
   "execution_count": 9,
   "metadata": {},
   "outputs": [
    {
     "data": {
      "text/plain": [
       "484461"
      ]
     },
     "execution_count": 9,
     "metadata": {},
     "output_type": "execute_result"
    }
   ],
   "source": [
    "## get rid of tweets with more than one state\n",
    "df = df[~df.state.str.contains(\"_\")]\n",
    "len(df)"
   ]
  },
  {
   "cell_type": "code",
   "execution_count": 10,
   "metadata": {},
   "outputs": [
    {
     "data": {
      "text/html": [
       "<div>\n",
       "<style scoped>\n",
       "    .dataframe tbody tr th:only-of-type {\n",
       "        vertical-align: middle;\n",
       "    }\n",
       "\n",
       "    .dataframe tbody tr th {\n",
       "        vertical-align: top;\n",
       "    }\n",
       "\n",
       "    .dataframe thead th {\n",
       "        text-align: right;\n",
       "    }\n",
       "</style>\n",
       "<table border=\"1\" class=\"dataframe\">\n",
       "  <thead>\n",
       "    <tr style=\"text-align: right;\">\n",
       "      <th></th>\n",
       "      <th>State</th>\n",
       "      <th>Abbreviation</th>\n",
       "      <th>Alpha code</th>\n",
       "    </tr>\n",
       "  </thead>\n",
       "  <tbody>\n",
       "    <tr>\n",
       "      <th>0</th>\n",
       "      <td>Alabama</td>\n",
       "      <td>Ala.</td>\n",
       "      <td>AL</td>\n",
       "    </tr>\n",
       "    <tr>\n",
       "      <th>1</th>\n",
       "      <td>Alaska</td>\n",
       "      <td>NaN</td>\n",
       "      <td>AK</td>\n",
       "    </tr>\n",
       "    <tr>\n",
       "      <th>2</th>\n",
       "      <td>Arizona</td>\n",
       "      <td>Ariz.</td>\n",
       "      <td>AZ</td>\n",
       "    </tr>\n",
       "    <tr>\n",
       "      <th>3</th>\n",
       "      <td>Arkansas</td>\n",
       "      <td>Ark.</td>\n",
       "      <td>AR</td>\n",
       "    </tr>\n",
       "    <tr>\n",
       "      <th>4</th>\n",
       "      <td>California</td>\n",
       "      <td>Calif.</td>\n",
       "      <td>CA</td>\n",
       "    </tr>\n",
       "  </tbody>\n",
       "</table>\n",
       "</div>"
      ],
      "text/plain": [
       "        State Abbreviation Alpha code\n",
       "0     Alabama         Ala.         AL\n",
       "1      Alaska          NaN         AK\n",
       "2     Arizona        Ariz.         AZ\n",
       "3    Arkansas         Ark.         AR\n",
       "4  California       Calif.         CA"
      ]
     },
     "execution_count": 10,
     "metadata": {},
     "output_type": "execute_result"
    }
   ],
   "source": [
    "geo_reference = pd.read_csv(\"us_states.csv\")\n",
    "geo_reference[:5]"
   ]
  },
  {
   "cell_type": "code",
   "execution_count": 11,
   "metadata": {},
   "outputs": [],
   "source": [
    "states = geo_reference.State.str.lower().tolist()\n",
    "abbs = [a.replace(\".\",\"\") for a in geo_reference.Abbreviation.dropna().str.lower().tolist()]\n",
    "alpha = geo_reference[\"Alpha code\"].str.lower().tolist()\n",
    "dest = geo_reference.State.tolist()\n",
    "\n",
    "geo_reference = dict(zip(states,dest))\n",
    "geo_reference.update(dict(zip(abbs,dest)))\n",
    "geo_reference.update(dict(zip(alpha,dest)))\n"
   ]
  },
  {
   "cell_type": "code",
   "execution_count": 12,
   "metadata": {},
   "outputs": [],
   "source": [
    "def find_us_state(x):\n",
    "    '''Unifies the state names'''\n",
    "    if \"_\" in x:\n",
    "        final = []\n",
    "        for s in x.split(\"_\"):\n",
    "            if s.lower() in states+abbs+alpha:\n",
    "               final.append(geo_reference[s.lower()])\n",
    "        return \"_\".join(final)\n",
    "    for s in x.split(\", \"):\n",
    "        if s.lower() in states+abbs+alpha:\n",
    "            return geo_reference[s.lower()]\n",
    "            \n",
    "    return x\n",
    "            "
   ]
  },
  {
   "cell_type": "code",
   "execution_count": 13,
   "metadata": {},
   "outputs": [
    {
     "name": "stderr",
     "output_type": "stream",
     "text": [
      "/mnt/enchome/anaconda3/envs/twee/lib/python3.9/site-packages/pandas/core/generic.py:5516: SettingWithCopyWarning: \n",
      "A value is trying to be set on a copy of a slice from a DataFrame.\n",
      "Try using .loc[row_indexer,col_indexer] = value instead\n",
      "\n",
      "See the caveats in the documentation: https://pandas.pydata.org/pandas-docs/stable/user_guide/indexing.html#returning-a-view-versus-a-copy\n",
      "  self[name] = value\n"
     ]
    },
    {
     "data": {
      "text/plain": [
       "array(['Colorado', 'Georgia', 'California', 'Arizona',\n",
       "       'District of Columbia', 'New Jersey', 'South Carolina',\n",
       "       'Washington', 'Maryland', 'North Carolina', 'Oklahoma',\n",
       "       'Massachusetts', 'Pennsylvania', 'Mississippi', 'Kansas',\n",
       "       'Florida', 'Michigan', 'New York', 'Tennessee', 'Texas',\n",
       "       'Rhode Island', 'Nevada', 'Minnesota', 'Oregon', 'Indiana',\n",
       "       'Virginia', 'Illinois', 'Delaware', 'Wisconsin', 'Kentucky',\n",
       "       'Arkansas', 'Ohio', 'Montana', 'Connecticut', 'New Hampshire',\n",
       "       'Alaska', 'Louisiana', 'Missouri', 'Wyoming', 'New Mexico',\n",
       "       'Alabama', 'Idaho', 'Maine', 'Hawaii', 'West Virginia', 'Utah',\n",
       "       'Iowa', 'Vermont', 'Nebraska', 'South Dakota', 'North Dakota'],\n",
       "      dtype=object)"
      ]
     },
     "execution_count": 13,
     "metadata": {},
     "output_type": "execute_result"
    }
   ],
   "source": [
    "df.state = df.state.parallel_apply(lambda x: find_us_state(x))\n",
    "df.state.unique()"
   ]
  },
  {
   "cell_type": "code",
   "execution_count": 38,
   "metadata": {},
   "outputs": [
    {
     "name": "stderr",
     "output_type": "stream",
     "text": [
      "<ipython-input-38-f3ef6ec1700e>:2: SettingWithCopyWarning: \n",
      "A value is trying to be set on a copy of a slice from a DataFrame.\n",
      "Try using .loc[row_indexer,col_indexer] = value instead\n",
      "\n",
      "See the caveats in the documentation: https://pandas.pydata.org/pandas-docs/stable/user_guide/indexing.html#returning-a-view-versus-a-copy\n",
      "  df[\"count\"] = df.stance\n"
     ]
    },
    {
     "data": {
      "text/html": [
       "<div>\n",
       "<style scoped>\n",
       "    .dataframe tbody tr th:only-of-type {\n",
       "        vertical-align: middle;\n",
       "    }\n",
       "\n",
       "    .dataframe tbody tr th {\n",
       "        vertical-align: top;\n",
       "    }\n",
       "\n",
       "    .dataframe thead th {\n",
       "        text-align: right;\n",
       "    }\n",
       "</style>\n",
       "<table border=\"1\" class=\"dataframe\">\n",
       "  <thead>\n",
       "    <tr style=\"text-align: right;\">\n",
       "      <th></th>\n",
       "      <th>drug</th>\n",
       "      <th>wave</th>\n",
       "      <th>state</th>\n",
       "      <th>stance</th>\n",
       "      <th>count</th>\n",
       "    </tr>\n",
       "  </thead>\n",
       "  <tbody>\n",
       "    <tr>\n",
       "      <th>0</th>\n",
       "      <td>hcq</td>\n",
       "      <td>1</td>\n",
       "      <td>Alabama</td>\n",
       "      <td>512</td>\n",
       "      <td>1426</td>\n",
       "    </tr>\n",
       "    <tr>\n",
       "      <th>1</th>\n",
       "      <td>hcq</td>\n",
       "      <td>1</td>\n",
       "      <td>Alaska</td>\n",
       "      <td>107</td>\n",
       "      <td>334</td>\n",
       "    </tr>\n",
       "    <tr>\n",
       "      <th>2</th>\n",
       "      <td>hcq</td>\n",
       "      <td>1</td>\n",
       "      <td>Arizona</td>\n",
       "      <td>1005</td>\n",
       "      <td>3879</td>\n",
       "    </tr>\n",
       "    <tr>\n",
       "      <th>3</th>\n",
       "      <td>hcq</td>\n",
       "      <td>1</td>\n",
       "      <td>Arkansas</td>\n",
       "      <td>115</td>\n",
       "      <td>640</td>\n",
       "    </tr>\n",
       "    <tr>\n",
       "      <th>4</th>\n",
       "      <td>hcq</td>\n",
       "      <td>1</td>\n",
       "      <td>California</td>\n",
       "      <td>757</td>\n",
       "      <td>18104</td>\n",
       "    </tr>\n",
       "    <tr>\n",
       "      <th>...</th>\n",
       "      <td>...</td>\n",
       "      <td>...</td>\n",
       "      <td>...</td>\n",
       "      <td>...</td>\n",
       "      <td>...</td>\n",
       "    </tr>\n",
       "    <tr>\n",
       "      <th>702</th>\n",
       "      <td>remdesivir</td>\n",
       "      <td>3</td>\n",
       "      <td>Virginia</td>\n",
       "      <td>-7</td>\n",
       "      <td>100</td>\n",
       "    </tr>\n",
       "    <tr>\n",
       "      <th>703</th>\n",
       "      <td>remdesivir</td>\n",
       "      <td>3</td>\n",
       "      <td>Washington</td>\n",
       "      <td>96</td>\n",
       "      <td>208</td>\n",
       "    </tr>\n",
       "    <tr>\n",
       "      <th>704</th>\n",
       "      <td>remdesivir</td>\n",
       "      <td>3</td>\n",
       "      <td>West Virginia</td>\n",
       "      <td>-3</td>\n",
       "      <td>31</td>\n",
       "    </tr>\n",
       "    <tr>\n",
       "      <th>705</th>\n",
       "      <td>remdesivir</td>\n",
       "      <td>3</td>\n",
       "      <td>Wisconsin</td>\n",
       "      <td>15</td>\n",
       "      <td>57</td>\n",
       "    </tr>\n",
       "    <tr>\n",
       "      <th>706</th>\n",
       "      <td>remdesivir</td>\n",
       "      <td>3</td>\n",
       "      <td>Wyoming</td>\n",
       "      <td>3</td>\n",
       "      <td>5</td>\n",
       "    </tr>\n",
       "  </tbody>\n",
       "</table>\n",
       "<p>707 rows × 5 columns</p>\n",
       "</div>"
      ],
      "text/plain": [
       "           drug  wave          state  stance  count\n",
       "0           hcq     1        Alabama     512   1426\n",
       "1           hcq     1         Alaska     107    334\n",
       "2           hcq     1        Arizona    1005   3879\n",
       "3           hcq     1       Arkansas     115    640\n",
       "4           hcq     1     California     757  18104\n",
       "..          ...   ...            ...     ...    ...\n",
       "702  remdesivir     3       Virginia      -7    100\n",
       "703  remdesivir     3     Washington      96    208\n",
       "704  remdesivir     3  West Virginia      -3     31\n",
       "705  remdesivir     3      Wisconsin      15     57\n",
       "706  remdesivir     3        Wyoming       3      5\n",
       "\n",
       "[707 rows x 5 columns]"
      ]
     },
     "execution_count": 38,
     "metadata": {},
     "output_type": "execute_result"
    }
   ],
   "source": [
    "import numpy as np\n",
    "df[\"count\"] = df.stance\n",
    "average_stance_dist = df[[\"drug\",\"wave\",\"state\",\"stance\",\"count\"]].groupby([\"drug\",\"wave\",\"state\"]).agg({\"stance\":np.sum,\"count\":np.size}).reset_index()\n",
    "average_stance_dist"
   ]
  },
  {
   "cell_type": "code",
   "execution_count": 39,
   "metadata": {},
   "outputs": [
    {
     "data": {
      "text/html": [
       "<div>\n",
       "<style scoped>\n",
       "    .dataframe tbody tr th:only-of-type {\n",
       "        vertical-align: middle;\n",
       "    }\n",
       "\n",
       "    .dataframe tbody tr th {\n",
       "        vertical-align: top;\n",
       "    }\n",
       "\n",
       "    .dataframe thead th {\n",
       "        text-align: right;\n",
       "    }\n",
       "</style>\n",
       "<table border=\"1\" class=\"dataframe\">\n",
       "  <thead>\n",
       "    <tr style=\"text-align: right;\">\n",
       "      <th></th>\n",
       "      <th>drug</th>\n",
       "      <th>wave</th>\n",
       "      <th>state</th>\n",
       "      <th>average_stance</th>\n",
       "    </tr>\n",
       "  </thead>\n",
       "  <tbody>\n",
       "    <tr>\n",
       "      <th>0</th>\n",
       "      <td>hcq</td>\n",
       "      <td>1</td>\n",
       "      <td>Alabama</td>\n",
       "      <td>0.3590</td>\n",
       "    </tr>\n",
       "    <tr>\n",
       "      <th>1</th>\n",
       "      <td>hcq</td>\n",
       "      <td>1</td>\n",
       "      <td>Alaska</td>\n",
       "      <td>0.3204</td>\n",
       "    </tr>\n",
       "    <tr>\n",
       "      <th>2</th>\n",
       "      <td>hcq</td>\n",
       "      <td>1</td>\n",
       "      <td>Arizona</td>\n",
       "      <td>0.2591</td>\n",
       "    </tr>\n",
       "    <tr>\n",
       "      <th>3</th>\n",
       "      <td>hcq</td>\n",
       "      <td>1</td>\n",
       "      <td>Arkansas</td>\n",
       "      <td>0.1797</td>\n",
       "    </tr>\n",
       "    <tr>\n",
       "      <th>4</th>\n",
       "      <td>hcq</td>\n",
       "      <td>1</td>\n",
       "      <td>California</td>\n",
       "      <td>0.0418</td>\n",
       "    </tr>\n",
       "    <tr>\n",
       "      <th>...</th>\n",
       "      <td>...</td>\n",
       "      <td>...</td>\n",
       "      <td>...</td>\n",
       "      <td>...</td>\n",
       "    </tr>\n",
       "    <tr>\n",
       "      <th>702</th>\n",
       "      <td>remdesivir</td>\n",
       "      <td>3</td>\n",
       "      <td>Virginia</td>\n",
       "      <td>-0.0700</td>\n",
       "    </tr>\n",
       "    <tr>\n",
       "      <th>703</th>\n",
       "      <td>remdesivir</td>\n",
       "      <td>3</td>\n",
       "      <td>Washington</td>\n",
       "      <td>0.4615</td>\n",
       "    </tr>\n",
       "    <tr>\n",
       "      <th>704</th>\n",
       "      <td>remdesivir</td>\n",
       "      <td>3</td>\n",
       "      <td>West Virginia</td>\n",
       "      <td>-0.0968</td>\n",
       "    </tr>\n",
       "    <tr>\n",
       "      <th>705</th>\n",
       "      <td>remdesivir</td>\n",
       "      <td>3</td>\n",
       "      <td>Wisconsin</td>\n",
       "      <td>0.2632</td>\n",
       "    </tr>\n",
       "    <tr>\n",
       "      <th>706</th>\n",
       "      <td>remdesivir</td>\n",
       "      <td>3</td>\n",
       "      <td>Wyoming</td>\n",
       "      <td>0.6000</td>\n",
       "    </tr>\n",
       "  </tbody>\n",
       "</table>\n",
       "<p>707 rows × 4 columns</p>\n",
       "</div>"
      ],
      "text/plain": [
       "           drug  wave          state  average_stance\n",
       "0           hcq     1        Alabama          0.3590\n",
       "1           hcq     1         Alaska          0.3204\n",
       "2           hcq     1        Arizona          0.2591\n",
       "3           hcq     1       Arkansas          0.1797\n",
       "4           hcq     1     California          0.0418\n",
       "..          ...   ...            ...             ...\n",
       "702  remdesivir     3       Virginia         -0.0700\n",
       "703  remdesivir     3     Washington          0.4615\n",
       "704  remdesivir     3  West Virginia         -0.0968\n",
       "705  remdesivir     3      Wisconsin          0.2632\n",
       "706  remdesivir     3        Wyoming          0.6000\n",
       "\n",
       "[707 rows x 4 columns]"
      ]
     },
     "execution_count": 39,
     "metadata": {},
     "output_type": "execute_result"
    }
   ],
   "source": [
    "average_stance_dist[\"average_stance\"] = round(average_stance_dist.stance/average_stance_dist[\"count\"], 4)\n",
    "average_stance_dist.pop(\"stance\")\n",
    "average_stance_dist.pop(\"count\")\n",
    "average_stance_dist\n"
   ]
  },
  {
   "cell_type": "code",
   "execution_count": 40,
   "metadata": {},
   "outputs": [],
   "source": [
    "average_stance_dist.to_csv(\"stance_geo_average.csv\",index=False)"
   ]
  }
 ],
 "metadata": {
  "interpreter": {
   "hash": "0babe654b855458543363a4b830ff43f68cfb343983d247d42ea7e3e37bc8d56"
  },
  "kernelspec": {
   "display_name": "Python 3.9.0 64-bit ('twee': conda)",
   "language": "python",
   "name": "python3"
  },
  "language_info": {
   "codemirror_mode": {
    "name": "ipython",
    "version": 3
   },
   "file_extension": ".py",
   "mimetype": "text/x-python",
   "name": "python",
   "nbconvert_exporter": "python",
   "pygments_lexer": "ipython3",
   "version": "3.9.0"
  },
  "orig_nbformat": 4
 },
 "nbformat": 4,
 "nbformat_minor": 2
}
